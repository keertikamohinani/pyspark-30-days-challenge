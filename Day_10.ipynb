{
  "nbformat": 4,
  "nbformat_minor": 0,
  "metadata": {
    "colab": {
      "provenance": [],
      "authorship_tag": "ABX9TyMLuyq0wp04GLow75DiKaQ4"
    },
    "kernelspec": {
      "name": "python3",
      "display_name": "Python 3"
    },
    "language_info": {
      "name": "python"
    }
  },
  "cells": [
    {
      "cell_type": "code",
      "source": [
        "!pip install pyspark==3.5.0 findspark"
      ],
      "metadata": {
        "colab": {
          "base_uri": "https://localhost:8080/"
        },
        "id": "gI_fOgiHO6Sd",
        "outputId": "a0ea6a59-4ebb-4302-a61c-49b61e2f76e4"
      },
      "execution_count": 1,
      "outputs": [
        {
          "output_type": "stream",
          "name": "stdout",
          "text": [
            "Collecting pyspark==3.5.0\n",
            "  Downloading pyspark-3.5.0.tar.gz (316.9 MB)\n",
            "\u001b[2K     \u001b[90m━━━━━━━━━━━━━━━━━━━━━━━━━━━━━━━━━━━━━━━━\u001b[0m \u001b[32m316.9/316.9 MB\u001b[0m \u001b[31m3.2 MB/s\u001b[0m eta \u001b[36m0:00:00\u001b[0m\n",
            "\u001b[?25h  Preparing metadata (setup.py) ... \u001b[?25l\u001b[?25hdone\n",
            "Collecting findspark\n",
            "  Downloading findspark-2.0.1-py2.py3-none-any.whl (4.4 kB)\n",
            "Requirement already satisfied: py4j==0.10.9.7 in /usr/local/lib/python3.10/dist-packages (from pyspark==3.5.0) (0.10.9.7)\n",
            "Building wheels for collected packages: pyspark\n",
            "  Building wheel for pyspark (setup.py) ... \u001b[?25l\u001b[?25hdone\n",
            "  Created wheel for pyspark: filename=pyspark-3.5.0-py2.py3-none-any.whl size=317425344 sha256=030392da4d852e5e114ba190ad13500bc8734313a912a60d44525a5749905419\n",
            "  Stored in directory: /root/.cache/pip/wheels/41/4e/10/c2cf2467f71c678cfc8a6b9ac9241e5e44a01940da8fbb17fc\n",
            "Successfully built pyspark\n",
            "Installing collected packages: findspark, pyspark\n",
            "Successfully installed findspark-2.0.1 pyspark-3.5.0\n"
          ]
        }
      ]
    },
    {
      "cell_type": "code",
      "source": [
        "import findspark\n",
        "findspark.init()"
      ],
      "metadata": {
        "id": "af1b_-R0O-Tu"
      },
      "execution_count": 2,
      "outputs": []
    },
    {
      "cell_type": "code",
      "execution_count": 3,
      "metadata": {
        "id": "tTSXZ0oBOuJq"
      },
      "outputs": [],
      "source": [
        "movies_data = [\n",
        "    {\"movie_id\": 1, \"title\": \"The Galaxy Quest\", \"genre\": \"Sci-Fi/Comedy\", \"release_date\": \"1999-12-25\"},\n",
        "    {\"movie_id\": 2, \"title\": \"Cosmic Wars: Episode X\", \"genre\": \"Sci-Fi\", \"release_date\": \"2023-05-15\"},\n",
        "    {\"movie_id\": 3, \"title\": \"Love & Time Travel\", \"genre\": \"Romance/Sci-Fi\", \"release_date\": \"2022-02-14\"},\n",
        "    {\"movie_id\": 4, \"title\": \"Dino Park Adventures\", \"genre\": \"Action/Family\", \"release_date\": \"2021-08-20\"},\n",
        "    {\"movie_id\": 5, \"title\": \"Interstellar Dreams\", \"genre\": \"Sci-Fi/Drama\", \"release_date\": \"2018-11-02\"},\n",
        "    {\"movie_id\": 6, \"title\": \"The Cosmic Comedy Classic\", \"genre\": \"Comedy/Sci-Fi\", \"release_date\": \"1985-09-20\"}\n",
        "]\n",
        "\n",
        "reviews_data = [\n",
        "    {\"review_id\": 1, \"movie_id\": 1, \"rating\": 4.5, \"review_text\": \"A hilarious and surprisingly heartfelt space romp!\"},\n",
        "    {\"review_id\": 2, \"movie_id\": 3, \"rating\": 3.0, \"review_text\": \"Decent effects, but the plot was predictable.\"},\n",
        "    {\"review_id\": 3, \"movie_id\": 2, \"rating\": 4.0, \"review_text\": \"Visually stunning, but lacked depth.\"},\n",
        "    {\"review_id\": 4, \"movie_id\": 6, \"rating\": 2.5, \"review_text\": \"Some funny moments, but overall felt dated.\"}  # Review for a new movie\n",
        "]\n",
        "\n",
        "box_office_data = [\n",
        "    {\"movie_id\": 2, \"domestic_gross\": 350000000, \"international_gross\": 580000000},\n",
        "    {\"movie_id\": 3, \"domestic_gross\": 180000000, \"international_gross\": 120000000},\n",
        "    {\"movie_id\": 4, \"domestic_gross\": 220000000, \"international_gross\": 300000000},\n",
        "    {\"movie_id\": 7, \"domestic_gross\": 5500000, \"international_gross\": 12000000}\n",
        "]\n"
      ]
    },
    {
      "cell_type": "code",
      "source": [
        "from pyspark.sql import SparkSession\n",
        "spark = SparkSession.builder.appName(\"MovieExample\").getOrCreate()\n",
        "\n",
        "movies_df = spark.createDataFrame(movies_data)\n",
        "reviews_df = spark.createDataFrame(reviews_data)\n",
        "box_office_df = spark.createDataFrame(box_office_data)\n"
      ],
      "metadata": {
        "id": "SFOlQg_dOz3S"
      },
      "execution_count": 4,
      "outputs": []
    },
    {
      "cell_type": "code",
      "source": [
        "joined_df = movies_df.join(box_office_df, on=\"movie_id\")"
      ],
      "metadata": {
        "id": "w7DLcTSP1FnM"
      },
      "execution_count": 12,
      "outputs": []
    },
    {
      "cell_type": "code",
      "source": [
        "joined_df.show(truncate=False)"
      ],
      "metadata": {
        "colab": {
          "base_uri": "https://localhost:8080/"
        },
        "id": "FtMIeXFu1FiR",
        "outputId": "dac24233-3610-47ac-c4ff-b62c87bc8425"
      },
      "execution_count": 13,
      "outputs": [
        {
          "output_type": "stream",
          "name": "stdout",
          "text": [
            "+--------+--------------+------------+----------------------+--------------+-------------------+\n",
            "|movie_id|genre         |release_date|title                 |domestic_gross|international_gross|\n",
            "+--------+--------------+------------+----------------------+--------------+-------------------+\n",
            "|2       |Sci-Fi        |2023-05-15  |Cosmic Wars: Episode X|350000000     |580000000          |\n",
            "|3       |Romance/Sci-Fi|2022-02-14  |Love & Time Travel    |180000000     |120000000          |\n",
            "|4       |Action/Family |2021-08-20  |Dino Park Adventures  |220000000     |300000000          |\n",
            "+--------+--------------+------------+----------------------+--------------+-------------------+\n",
            "\n"
          ]
        }
      ]
    },
    {
      "cell_type": "code",
      "source": [
        "left_join_df = movies_df.join(box_office_df, on=\"movie_id\", how=\"left\")"
      ],
      "metadata": {
        "id": "PNSmAJ0S1FV1"
      },
      "execution_count": 9,
      "outputs": []
    },
    {
      "cell_type": "code",
      "source": [
        "left_join_df.show(truncate=False)"
      ],
      "metadata": {
        "colab": {
          "base_uri": "https://localhost:8080/"
        },
        "id": "wGeNN3ma1FKJ",
        "outputId": "654d0e3f-9e42-4ba5-cb1a-0d7206d604cb"
      },
      "execution_count": 10,
      "outputs": [
        {
          "output_type": "stream",
          "name": "stdout",
          "text": [
            "+--------+--------------+------------+-------------------------+--------------+-------------------+\n",
            "|movie_id|genre         |release_date|title                    |domestic_gross|international_gross|\n",
            "+--------+--------------+------------+-------------------------+--------------+-------------------+\n",
            "|1       |Sci-Fi/Comedy |1999-12-25  |The Galaxy Quest         |NULL          |NULL               |\n",
            "|3       |Romance/Sci-Fi|2022-02-14  |Love & Time Travel       |180000000     |120000000          |\n",
            "|2       |Sci-Fi        |2023-05-15  |Cosmic Wars: Episode X   |350000000     |580000000          |\n",
            "|6       |Comedy/Sci-Fi |1985-09-20  |The Cosmic Comedy Classic|NULL          |NULL               |\n",
            "|5       |Sci-Fi/Drama  |2018-11-02  |Interstellar Dreams      |NULL          |NULL               |\n",
            "|4       |Action/Family |2021-08-20  |Dino Park Adventures     |220000000     |300000000          |\n",
            "+--------+--------------+------------+-------------------------+--------------+-------------------+\n",
            "\n"
          ]
        }
      ]
    },
    {
      "cell_type": "code",
      "source": [
        "full_join_df = movies_df.join(box_office_df, on=\"movie_id\", how=\"full\")"
      ],
      "metadata": {
        "id": "ankUfBty0bfG"
      },
      "execution_count": 7,
      "outputs": []
    },
    {
      "cell_type": "code",
      "source": [
        "full_join_df.show(truncate=False)"
      ],
      "metadata": {
        "colab": {
          "base_uri": "https://localhost:8080/"
        },
        "id": "IzkmFe1f0cMD",
        "outputId": "72d31a4f-607f-4b04-c394-4cbd6bd1ba68"
      },
      "execution_count": 8,
      "outputs": [
        {
          "output_type": "stream",
          "name": "stdout",
          "text": [
            "+--------+--------------+------------+-------------------------+--------------+-------------------+\n",
            "|movie_id|genre         |release_date|title                    |domestic_gross|international_gross|\n",
            "+--------+--------------+------------+-------------------------+--------------+-------------------+\n",
            "|1       |Sci-Fi/Comedy |1999-12-25  |The Galaxy Quest         |NULL          |NULL               |\n",
            "|2       |Sci-Fi        |2023-05-15  |Cosmic Wars: Episode X   |350000000     |580000000          |\n",
            "|3       |Romance/Sci-Fi|2022-02-14  |Love & Time Travel       |180000000     |120000000          |\n",
            "|4       |Action/Family |2021-08-20  |Dino Park Adventures     |220000000     |300000000          |\n",
            "|5       |Sci-Fi/Drama  |2018-11-02  |Interstellar Dreams      |NULL          |NULL               |\n",
            "|6       |Comedy/Sci-Fi |1985-09-20  |The Cosmic Comedy Classic|NULL          |NULL               |\n",
            "|7       |NULL          |NULL        |NULL                     |5500000       |12000000           |\n",
            "+--------+--------------+------------+-------------------------+--------------+-------------------+\n",
            "\n"
          ]
        }
      ]
    },
    {
      "cell_type": "code",
      "source": [
        "right_join_df = movies_df.join(box_office_df, on=\"movie_id\", how=\"right\")"
      ],
      "metadata": {
        "id": "YjoK0Oplz3fS"
      },
      "execution_count": 5,
      "outputs": []
    },
    {
      "cell_type": "code",
      "source": [
        "right_join_df.show(truncate=False)"
      ],
      "metadata": {
        "colab": {
          "base_uri": "https://localhost:8080/"
        },
        "id": "b-muDZPPz4qV",
        "outputId": "0746f08f-4efc-4c62-d7c7-2a4db60e374d"
      },
      "execution_count": 6,
      "outputs": [
        {
          "output_type": "stream",
          "name": "stdout",
          "text": [
            "+--------+--------------+------------+----------------------+--------------+-------------------+\n",
            "|movie_id|genre         |release_date|title                 |domestic_gross|international_gross|\n",
            "+--------+--------------+------------+----------------------+--------------+-------------------+\n",
            "|3       |Romance/Sci-Fi|2022-02-14  |Love & Time Travel    |180000000     |120000000          |\n",
            "|2       |Sci-Fi        |2023-05-15  |Cosmic Wars: Episode X|350000000     |580000000          |\n",
            "|7       |NULL          |NULL        |NULL                  |5500000       |12000000           |\n",
            "|4       |Action/Family |2021-08-20  |Dino Park Adventures  |220000000     |300000000          |\n",
            "+--------+--------------+------------+----------------------+--------------+-------------------+\n",
            "\n"
          ]
        }
      ]
    }
  ]
}