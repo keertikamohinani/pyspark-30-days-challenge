{
  "nbformat": 4,
  "nbformat_minor": 0,
  "metadata": {
    "colab": {
      "provenance": [],
      "authorship_tag": "ABX9TyP4nB1bcUHa7U01aI38cpYJ"
    },
    "kernelspec": {
      "name": "python3",
      "display_name": "Python 3"
    },
    "language_info": {
      "name": "python"
    }
  },
  "cells": [
    {
      "cell_type": "code",
      "source": [
        "!pip install pyspark==3.5.0 findspark"
      ],
      "metadata": {
        "colab": {
          "base_uri": "https://localhost:8080/"
        },
        "id": "gI_fOgiHO6Sd",
        "outputId": "ea185f65-e7cd-42d8-ab67-e615176c029a"
      },
      "execution_count": 1,
      "outputs": [
        {
          "output_type": "stream",
          "name": "stdout",
          "text": [
            "Collecting pyspark==3.5.0\n",
            "  Downloading pyspark-3.5.0.tar.gz (316.9 MB)\n",
            "\u001b[2K     \u001b[90m━━━━━━━━━━━━━━━━━━━━━━━━━━━━━━━━━━━━━━━━\u001b[0m \u001b[32m316.9/316.9 MB\u001b[0m \u001b[31m2.3 MB/s\u001b[0m eta \u001b[36m0:00:00\u001b[0m\n",
            "\u001b[?25h  Preparing metadata (setup.py) ... \u001b[?25l\u001b[?25hdone\n",
            "Collecting findspark\n",
            "  Downloading findspark-2.0.1-py2.py3-none-any.whl (4.4 kB)\n",
            "Requirement already satisfied: py4j==0.10.9.7 in /usr/local/lib/python3.10/dist-packages (from pyspark==3.5.0) (0.10.9.7)\n",
            "Building wheels for collected packages: pyspark\n",
            "  Building wheel for pyspark (setup.py) ... \u001b[?25l\u001b[?25hdone\n",
            "  Created wheel for pyspark: filename=pyspark-3.5.0-py2.py3-none-any.whl size=317425344 sha256=1c8f513f79bbc373a9d2a059dd56ac0fcf4a7a5926fe5ef1373a7acee90209c9\n",
            "  Stored in directory: /root/.cache/pip/wheels/41/4e/10/c2cf2467f71c678cfc8a6b9ac9241e5e44a01940da8fbb17fc\n",
            "Successfully built pyspark\n",
            "Installing collected packages: findspark, pyspark\n",
            "Successfully installed findspark-2.0.1 pyspark-3.5.0\n"
          ]
        }
      ]
    },
    {
      "cell_type": "code",
      "source": [
        "import findspark\n",
        "findspark.init()"
      ],
      "metadata": {
        "id": "af1b_-R0O-Tu"
      },
      "execution_count": 2,
      "outputs": []
    },
    {
      "cell_type": "code",
      "execution_count": 9,
      "metadata": {
        "id": "tTSXZ0oBOuJq"
      },
      "outputs": [],
      "source": [
        "movies_data = [\n",
        "   {\n",
        "      \"movieId\": 1,\n",
        "      \"title\": \"The Guardian of Destiny\",\n",
        "      \"genres\": \"Action\",\n",
        "      \"release_date\": \"2023-05-12\",\n",
        "      \"avg_rating\": 4.2,\n",
        "      \"box_office_revenue\": 150000000\n",
        "   },\n",
        "   {\n",
        "      \"movieId\": 2,\n",
        "      \"title\": \"Whispers in the Night\",\n",
        "      \"genres\": \"Thriller\",\n",
        "      \"release_date\": \"2023-02-21\",\n",
        "      \"avg_rating\": 3.6,\n",
        "      \"box_office_revenue\": 55000000\n",
        "   },\n",
        "   {\n",
        "     \"movieId\": 3,\n",
        "      \"title\": \"Project Time Loop\",\n",
        "      \"genres\": \"Sci-Fi\",\n",
        "      \"release_date\": \"2023-08-18\",\n",
        "      \"avg_rating\": 4.0,\n",
        "      \"box_office_revenue\": 120000000\n",
        "   },\n",
        "   {\n",
        "      \"movieId\": 4,\n",
        "      \"title\": \"The Baker's Secret Recipe\",\n",
        "      \"genres\": \"Romance\",\n",
        "      \"release_date\": \"2022-10-25\",\n",
        "      \"avg_rating\": 3.9,\n",
        "      \"box_office_revenue\": 30000000\n",
        "   },\n",
        "   {\n",
        "      \"movieId\": 5,\n",
        "      \"title\": \"Rise of the Underdogs\",\n",
        "      \"genres\": \"Drama\",\n",
        "      \"release_date\": \"2023-06-09\",\n",
        "      \"avg_rating\": 4.6,\n",
        "      \"box_office_revenue\": 220000000\n",
        "   },\n",
        "   {\n",
        "      \"movieId\": 6,\n",
        "      \"title\": \"Cybermind\",\n",
        "      \"genres\": \"Sci-Fi\",\n",
        "      \"release_date\": \"2022-12-16\",\n",
        "      \"avg_rating\": 3.2,\n",
        "      \"box_office_revenue\": 80000000\n",
        "   },\n",
        "   {\n",
        "      \"movieId\": 7,\n",
        "      \"title\": \"Of Stars and Galaxies\",\n",
        "      \"genres\": \"Sci-Fi\",\n",
        "      \"release_date\": \"2023-01-15\",\n",
        "      \"avg_rating\": 4.4,\n",
        "      \"box_office_revenue\": 270000000\n",
        "   },\n",
        "   {\n",
        "      \"movieId\": 8,\n",
        "      \"title\": \"The Last Detective\",\n",
        "      \"genres\": \"Mystery\",\n",
        "      \"release_date\": \"2023-07-28\",\n",
        "      \"avg_rating\": 3.8,\n",
        "      \"box_office_revenue\": 65000000\n",
        "   },\n",
        "   {\n",
        "      \"movieId\": 9,\n",
        "      \"title\": \"When Robots Dream\",\n",
        "      \"genres\": \"Drama\",\n",
        "      \"release_date\": \"2022-05-20\",\n",
        "      \"avg_rating\": 4.1,\n",
        "      \"box_office_revenue\": 95000000\n",
        "   },\n",
        "   {\n",
        "      \"movieId\": 10,\n",
        "      \"title\": \"The Unconventional Artist\",\n",
        "      \"genres\": \"Documentary\",\n",
        "      \"release_date\": \"2022-09-30\",\n",
        "      \"avg_rating\": 4.3,\n",
        "      \"box_office_revenue\": 15000000\n",
        "   }\n",
        "]\n"
      ]
    },
    {
      "cell_type": "code",
      "source": [
        "from pyspark.sql import SparkSession\n",
        "spark = SparkSession.builder.appName(\"MovieExample\").getOrCreate()\n",
        "\n",
        "movies_df = spark.createDataFrame(movies_data)\n"
      ],
      "metadata": {
        "id": "SFOlQg_dOz3S"
      },
      "execution_count": 10,
      "outputs": []
    },
    {
      "cell_type": "code",
      "source": [
        "from pyspark.sql import functions as F, Window\n",
        "\n",
        "# Assuming you've loaded your movies dataframe\n",
        "windowSpec = Window.partitionBy(\"genres\").orderBy(F.col(\"avg_rating\").desc())\n",
        "\n",
        "df_with_ranks = movies_df.withColumn(\"genre_rank\", F.dense_rank().over(windowSpec))\n",
        "\n",
        "top_movies = df_with_ranks.where(F.col('genre_rank') <= 3)\n",
        "top_movies.show(truncate=False)\n"
      ],
      "metadata": {
        "colab": {
          "base_uri": "https://localhost:8080/"
        },
        "id": "dgEc8WcsPe0a",
        "outputId": "24bd4915-bf08-4e63-a373-1416aeaa3d36"
      },
      "execution_count": 11,
      "outputs": [
        {
          "output_type": "stream",
          "name": "stdout",
          "text": [
            "+----------+------------------+-----------+-------+------------+-------------------------+----------+\n",
            "|avg_rating|box_office_revenue|genres     |movieId|release_date|title                    |genre_rank|\n",
            "+----------+------------------+-----------+-------+------------+-------------------------+----------+\n",
            "|4.2       |150000000         |Action     |1      |2023-05-12  |The Guardian of Destiny  |1         |\n",
            "|4.3       |15000000          |Documentary|10     |2022-09-30  |The Unconventional Artist|1         |\n",
            "|4.6       |220000000         |Drama      |5      |2023-06-09  |Rise of the Underdogs    |1         |\n",
            "|4.1       |95000000          |Drama      |9      |2022-05-20  |When Robots Dream        |2         |\n",
            "|3.8       |65000000          |Mystery    |8      |2023-07-28  |The Last Detective       |1         |\n",
            "|3.9       |30000000          |Romance    |4      |2022-10-25  |The Baker's Secret Recipe|1         |\n",
            "|4.4       |270000000         |Sci-Fi     |7      |2023-01-15  |Of Stars and Galaxies    |1         |\n",
            "|4.0       |120000000         |Sci-Fi     |3      |2023-08-18  |Project Time Loop        |2         |\n",
            "|3.2       |80000000          |Sci-Fi     |6      |2022-12-16  |Cybermind                |3         |\n",
            "|3.6       |55000000          |Thriller   |2      |2023-02-21  |Whispers in the Night    |1         |\n",
            "+----------+------------------+-----------+-------+------------+-------------------------+----------+\n",
            "\n"
          ]
        }
      ]
    }
  ]
}