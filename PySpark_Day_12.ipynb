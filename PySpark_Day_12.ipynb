{
  "nbformat": 4,
  "nbformat_minor": 0,
  "metadata": {
    "colab": {
      "provenance": [],
      "authorship_tag": "ABX9TyPqtk+5kf1i2dhFa4EnuerD"
    },
    "kernelspec": {
      "name": "python3",
      "display_name": "Python 3"
    },
    "language_info": {
      "name": "python"
    }
  },
  "cells": [
    {
      "cell_type": "code",
      "source": [
        "!pip install pyspark==3.5.0 findspark"
      ],
      "metadata": {
        "colab": {
          "base_uri": "https://localhost:8080/"
        },
        "id": "gI_fOgiHO6Sd",
        "outputId": "ce376347-9ac2-4173-eca7-a81817eaca58"
      },
      "execution_count": 1,
      "outputs": [
        {
          "output_type": "stream",
          "name": "stdout",
          "text": [
            "Collecting pyspark==3.5.0\n",
            "  Downloading pyspark-3.5.0.tar.gz (316.9 MB)\n",
            "\u001b[2K     \u001b[90m━━━━━━━━━━━━━━━━━━━━━━━━━━━━━━━━━━━━━━━━\u001b[0m \u001b[32m316.9/316.9 MB\u001b[0m \u001b[31m3.5 MB/s\u001b[0m eta \u001b[36m0:00:00\u001b[0m\n",
            "\u001b[?25h  Preparing metadata (setup.py) ... \u001b[?25l\u001b[?25hdone\n",
            "Collecting findspark\n",
            "  Downloading findspark-2.0.1-py2.py3-none-any.whl (4.4 kB)\n",
            "Requirement already satisfied: py4j==0.10.9.7 in /usr/local/lib/python3.10/dist-packages (from pyspark==3.5.0) (0.10.9.7)\n",
            "Building wheels for collected packages: pyspark\n",
            "  Building wheel for pyspark (setup.py) ... \u001b[?25l\u001b[?25hdone\n",
            "  Created wheel for pyspark: filename=pyspark-3.5.0-py2.py3-none-any.whl size=317425344 sha256=a0cd1bad76dd0cbe4842371813816d843e11232338a698a95def385d83d5a64e\n",
            "  Stored in directory: /root/.cache/pip/wheels/41/4e/10/c2cf2467f71c678cfc8a6b9ac9241e5e44a01940da8fbb17fc\n",
            "Successfully built pyspark\n",
            "Installing collected packages: findspark, pyspark\n",
            "Successfully installed findspark-2.0.1 pyspark-3.5.0\n"
          ]
        }
      ]
    },
    {
      "cell_type": "code",
      "source": [
        "import findspark\n",
        "findspark.init()"
      ],
      "metadata": {
        "id": "af1b_-R0O-Tu"
      },
      "execution_count": null,
      "outputs": []
    },
    {
      "cell_type": "code",
      "execution_count": 3,
      "metadata": {
        "id": "tTSXZ0oBOuJq"
      },
      "outputs": [],
      "source": [
        "movies_data = [\n",
        "    (1, \"The Shawshank Redemption (1994)\", \"Crime|Drama\"),\n",
        "    (2, \"The Godfather (1972)\", \"Crime|Drama\"),\n",
        "    (3, \"The Dark Knight (2008)\", \"Action|Crime|Drama\"),\n",
        "    (4, \"The Lord of the Rings: The Return of the King (2003)\", \"Adventure|Drama|Fantasy\"),\n",
        "    (5, \"Pulp Fiction (1994)\", \"Crime|Thriller\"),\n",
        "    (6, \"Schindler's List (1993)\", \"Biography|Drama|History\"),\n",
        "    (7, \"Inception (2010)\", \"Action|Adventure|Sci-Fi\"),\n",
        "    (8, \"Spirited Away (2001)\", \"Animation|Adventure|Family\"),\n",
        "    (9, \"Interstellar (2014)\", \"Adventure|Drama|Sci-Fi\"),\n",
        "    (10, \"The Search for the Giant Squid (2023)\", \"Documentary|Nature\")\n",
        "]\n",
        "\n",
        "ratings_data = [\n",
        "    (101, 1, 5.0, 1475442332),  # User 101 loved 'The Shawshank Redemption'\n",
        "    (22, 2, 3.0, 1662234457),   # User 22 wasn't a fan of 'The Godfather'\n",
        "    (101, 3, 4.5, 1305696483),  # User 101 also enjoyed 'The Dark Knight'\n",
        "    (47, 6, 4.0, 1440115102),   # User 47 found 'Schindler's List' impactful\n",
        "    (158, 5, 2.5, 1525717880),  # User 158 disliked 'Pulp Fiction'\n",
        "    (22, 10, 4.0, 1661022219),  # User 22 enjoyed the documentary\n",
        "    (85, 3, 4.5, 1403772446),   # Another high rating for 'The Dark Knight'\n",
        "    (10, 7, 3.0, 1602650521),   # User 10 found 'Inception' just okay\n",
        "    (10, 1, 3.5, 1475442891),  # User 10 had mixed feelings about 'Shawshank...'\n",
        "    (192, 8, 5.0, 1292342928)   # User 192 was captivated by 'Spirited Away'\n",
        " ]"
      ]
    },
    {
      "cell_type": "code",
      "source": [
        "from pyspark.sql import SparkSession, Row\n",
        "from pyspark.sql.types import *\n",
        "\n",
        "spark = SparkSession.builder.appName(\"MovieLens\").getOrCreate()\n",
        "\n",
        "# Movies Schema\n",
        "schema_movies = StructType([\n",
        "    StructField(\"movieId\", IntegerType(), True),\n",
        "    StructField(\"title\", StringType(), True),\n",
        "    StructField(\"genres\", StringType(), True)\n",
        "])\n",
        "\n",
        "# Create DataFrames\n",
        "movies_df = spark.createDataFrame(movies_data, schema_movies)\n",
        "ratings_df = spark.createDataFrame(ratings_data, [\"userId\", \"movieId\", \"rating\", \"timestamp\"])\n",
        "\n",
        "\n",
        "\n"
      ],
      "metadata": {
        "id": "SFOlQg_dOz3S"
      },
      "execution_count": 8,
      "outputs": []
    },
    {
      "cell_type": "code",
      "source": [
        "from pyspark.sql import functions as F\n",
        "\n",
        "# Most popular movie (by number of ratings)\n",
        "popular_movie = ratings_df.groupBy(\"movieId\").count().orderBy(F.col(\"count\").desc()).limit(1)\n",
        "popular_movie.show()\n",
        "\n",
        "\n",
        "# Average rating per genre\n",
        "avg_rating_by_genre = movies_df.join(ratings_df, movies_df['movieId'] == ratings_df['movieId'], 'inner').groupBy(\"genres\").avg(\"rating\")\n",
        "avg_rating_by_genre.show(truncate=False)\n",
        "\n"
      ],
      "metadata": {
        "colab": {
          "base_uri": "https://localhost:8080/"
        },
        "id": "dgEc8WcsPe0a",
        "outputId": "afc6e9a0-6048-4231-8915-5eef3fe1f9bc"
      },
      "execution_count": 14,
      "outputs": [
        {
          "output_type": "stream",
          "name": "stdout",
          "text": [
            "+-------+-----+\n",
            "|movieId|count|\n",
            "+-------+-----+\n",
            "|      1|    2|\n",
            "+-------+-----+\n",
            "\n",
            "+--------------------------+------------------+\n",
            "|genres                    |avg(rating)       |\n",
            "+--------------------------+------------------+\n",
            "|Crime|Thriller            |2.5               |\n",
            "|Crime|Drama               |3.8333333333333335|\n",
            "|Documentary|Nature        |4.0               |\n",
            "|Action|Adventure|Sci-Fi   |3.0               |\n",
            "|Biography|Drama|History   |4.0               |\n",
            "|Action|Crime|Drama        |4.5               |\n",
            "|Animation|Adventure|Family|5.0               |\n",
            "+--------------------------+------------------+\n",
            "\n"
          ]
        }
      ]
    }
  ]
}