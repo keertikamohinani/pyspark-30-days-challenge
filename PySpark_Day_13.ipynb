{
  "nbformat": 4,
  "nbformat_minor": 0,
  "metadata": {
    "colab": {
      "provenance": [],
      "authorship_tag": "ABX9TyNrudmXLRT5bFJpw0pzuAlp"
    },
    "kernelspec": {
      "name": "python3",
      "display_name": "Python 3"
    },
    "language_info": {
      "name": "python"
    }
  },
  "cells": [
    {
      "cell_type": "code",
      "execution_count": 1,
      "metadata": {
        "colab": {
          "base_uri": "https://localhost:8080/"
        },
        "id": "FXSqKcWnmx3M",
        "outputId": "a80d9bd7-90b9-42fe-ff11-d7f78a742392"
      },
      "outputs": [
        {
          "output_type": "stream",
          "name": "stdout",
          "text": [
            "Collecting pyspark==3.5.0\n",
            "  Downloading pyspark-3.5.0.tar.gz (316.9 MB)\n",
            "\u001b[2K     \u001b[90m━━━━━━━━━━━━━━━━━━━━━━━━━━━━━━━━━━━━━━━━\u001b[0m \u001b[32m316.9/316.9 MB\u001b[0m \u001b[31m2.9 MB/s\u001b[0m eta \u001b[36m0:00:00\u001b[0m\n",
            "\u001b[?25h  Preparing metadata (setup.py) ... \u001b[?25l\u001b[?25hdone\n",
            "Collecting findspark\n",
            "  Downloading findspark-2.0.1-py2.py3-none-any.whl (4.4 kB)\n",
            "Requirement already satisfied: py4j==0.10.9.7 in /usr/local/lib/python3.10/dist-packages (from pyspark==3.5.0) (0.10.9.7)\n",
            "Building wheels for collected packages: pyspark\n",
            "  Building wheel for pyspark (setup.py) ... \u001b[?25l\u001b[?25hdone\n",
            "  Created wheel for pyspark: filename=pyspark-3.5.0-py2.py3-none-any.whl size=317425344 sha256=a63835c2caec0063c300423df03cade9dfa1fbdd65bb592e2ad18e6ac234acc3\n",
            "  Stored in directory: /root/.cache/pip/wheels/41/4e/10/c2cf2467f71c678cfc8a6b9ac9241e5e44a01940da8fbb17fc\n",
            "Successfully built pyspark\n",
            "Installing collected packages: findspark, pyspark\n",
            "Successfully installed findspark-2.0.1 pyspark-3.5.0\n"
          ]
        }
      ],
      "source": [
        "!pip install pyspark==3.5.0 findspark"
      ]
    },
    {
      "cell_type": "code",
      "source": [
        "import findspark\n",
        "findspark.init()"
      ],
      "metadata": {
        "id": "QDReOgODnRws"
      },
      "execution_count": 2,
      "outputs": []
    },
    {
      "cell_type": "code",
      "source": [
        "from pyspark.sql import SparkSession\n",
        "spark = SparkSession.builder.appName(\"Day13\").getOrCreate()"
      ],
      "metadata": {
        "id": "J3go49bWnVmx"
      },
      "execution_count": 3,
      "outputs": []
    },
    {
      "cell_type": "code",
      "source": [
        "movies_df = spark.read.csv(\"sample_data/movies_metadata.csv\", header = True, inferSchema = True)"
      ],
      "metadata": {
        "id": "7XTU0_ax1hrZ"
      },
      "execution_count": 75,
      "outputs": []
    },
    {
      "cell_type": "code",
      "source": [
        " ratings_df = spark.read.csv(\"sample_data/ratings.csv\", header=True, inferSchema=True)\n",
        "\n",
        " ratings_df.show(5)\n"
      ],
      "metadata": {
        "colab": {
          "base_uri": "https://localhost:8080/"
        },
        "id": "_lbVUgDennD7",
        "outputId": "afea2f8d-bff5-45ba-f219-f458d9b8c132"
      },
      "execution_count": 72,
      "outputs": [
        {
          "output_type": "stream",
          "name": "stdout",
          "text": [
            "+------+-------+------+----------+\n",
            "|userId|movieId|rating| timestamp|\n",
            "+------+-------+------+----------+\n",
            "|     1|    110|   1.0|1425941529|\n",
            "|     1|    147|   4.5|1425942435|\n",
            "|     1|    858|   5.0|1425941523|\n",
            "|     1|   1221|   5.0|1425941546|\n",
            "|     1|   1246|   5.0|1425941556|\n",
            "+------+-------+------+----------+\n",
            "only showing top 5 rows\n",
            "\n"
          ]
        }
      ]
    },
    {
      "cell_type": "code",
      "source": [
        "ratings_df.printSchema()"
      ],
      "metadata": {
        "colab": {
          "base_uri": "https://localhost:8080/"
        },
        "id": "9upCZ4CDc7zE",
        "outputId": "4927424d-cc7d-4e6d-d2e9-173250ed7d80"
      },
      "execution_count": 73,
      "outputs": [
        {
          "output_type": "stream",
          "name": "stdout",
          "text": [
            "root\n",
            " |-- userId: integer (nullable = true)\n",
            " |-- movieId: integer (nullable = true)\n",
            " |-- rating: double (nullable = true)\n",
            " |-- timestamp: integer (nullable = true)\n",
            "\n"
          ]
        }
      ]
    },
    {
      "cell_type": "code",
      "source": [
        "movies_and_ratings = movies_df.join(ratings_df, movies_df['id'] == ratings_df['movieId'], 'inner')\n"
      ],
      "metadata": {
        "id": "JH1T-ktk2M0R"
      },
      "execution_count": 77,
      "outputs": []
    },
    {
      "cell_type": "code",
      "source": [
        "from pyspark.sql.functions import desc\n",
        "\n",
        "best_rated_by_genre = movies_and_ratings.groupBy(\"genres\").avg(\"rating\").orderBy(desc(\"avg(rating)\"))\n",
        "\n",
        "best_rated_by_genre.show()"
      ],
      "metadata": {
        "colab": {
          "base_uri": "https://localhost:8080/"
        },
        "id": "qTpAKGvR1Yc2",
        "outputId": "343aa19a-30df-4d3c-f91a-19b4233dc8db"
      },
      "execution_count": 81,
      "outputs": [
        {
          "output_type": "stream",
          "name": "stdout",
          "text": [
            "+--------------------+------------------+\n",
            "|              genres|       avg(rating)|\n",
            "+--------------------+------------------+\n",
            "|[{'id': 12, 'name...|               4.5|\n",
            "|[{'id': 10749, 'n...|               4.5|\n",
            "|[{'id': 99, 'name...|              4.25|\n",
            "|[{'id': 53, 'name...|              4.25|\n",
            "|[{'id': 28, 'name...|              4.25|\n",
            "|[{'id': 10749, 'n...| 4.213932576813326|\n",
            "|[{'id': 18, 'name...|4.2131118634504165|\n",
            "|[{'id': 18, 'name...| 4.199924604171902|\n",
            "|[{'id': 14, 'name...|4.1806621880998085|\n",
            "|[{'id': 18, 'name...| 4.166666666666667|\n",
            "|[{'id': 18, 'name...| 4.152347687892122|\n",
            "|[{'id': 16, 'name...| 4.150013762730525|\n",
            "|[{'id': 18, 'name...| 4.135950817381585|\n",
            "|[{'id': 10770, 'n...|4.1306878306878305|\n",
            "|[{'id': 28, 'name...| 4.130216013452335|\n",
            "|[{'id': 18, 'name...| 4.114169927333706|\n",
            "|[{'id': 9648, 'na...|  4.11226428884666|\n",
            "|[{'id': 18, 'name...| 4.109830097087379|\n",
            "|[{'id': 28, 'name...| 4.104114395999649|\n",
            "|[{'id': 28, 'name...| 4.086393827822901|\n",
            "+--------------------+------------------+\n",
            "only showing top 20 rows\n",
            "\n"
          ]
        }
      ]
    }
  ]
}