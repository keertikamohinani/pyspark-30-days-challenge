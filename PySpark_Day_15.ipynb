{
  "nbformat": 4,
  "nbformat_minor": 0,
  "metadata": {
    "colab": {
      "provenance": [],
      "authorship_tag": "ABX9TyMZimMqjU1iP/nrtSc+d221",
      "include_colab_link": true
    },
    "kernelspec": {
      "name": "python3",
      "display_name": "Python 3"
    },
    "language_info": {
      "name": "python"
    }
  },
  "cells": [
    {
      "cell_type": "markdown",
      "metadata": {
        "id": "view-in-github",
        "colab_type": "text"
      },
      "source": [
        "<a href=\"https://colab.research.google.com/github/keertikamohinani/pyspark-30-days-challenge/blob/main/PySpark_Day_15.ipynb\" target=\"_parent\"><img src=\"https://colab.research.google.com/assets/colab-badge.svg\" alt=\"Open In Colab\"/></a>"
      ]
    },
    {
      "cell_type": "code",
      "execution_count": 1,
      "metadata": {
        "colab": {
          "base_uri": "https://localhost:8080/"
        },
        "id": "FXSqKcWnmx3M",
        "outputId": "bd7f357d-02f7-4958-fc8e-2a4c9d0732e4"
      },
      "outputs": [
        {
          "output_type": "stream",
          "name": "stdout",
          "text": [
            "Collecting pyspark==3.5.0\n",
            "  Downloading pyspark-3.5.0.tar.gz (316.9 MB)\n",
            "\u001b[2K     \u001b[90m━━━━━━━━━━━━━━━━━━━━━━━━━━━━━━━━━━━━━━━━\u001b[0m \u001b[32m316.9/316.9 MB\u001b[0m \u001b[31m2.0 MB/s\u001b[0m eta \u001b[36m0:00:00\u001b[0m\n",
            "\u001b[?25h  Preparing metadata (setup.py) ... \u001b[?25l\u001b[?25hdone\n",
            "Collecting findspark\n",
            "  Downloading findspark-2.0.1-py2.py3-none-any.whl (4.4 kB)\n",
            "Requirement already satisfied: py4j==0.10.9.7 in /usr/local/lib/python3.10/dist-packages (from pyspark==3.5.0) (0.10.9.7)\n",
            "Building wheels for collected packages: pyspark\n",
            "  Building wheel for pyspark (setup.py) ... \u001b[?25l\u001b[?25hdone\n",
            "  Created wheel for pyspark: filename=pyspark-3.5.0-py2.py3-none-any.whl size=317425344 sha256=86c22e3f5f6b071d555cacc0c5a0d337e16a541124c4af20756b01815b38538e\n",
            "  Stored in directory: /root/.cache/pip/wheels/41/4e/10/c2cf2467f71c678cfc8a6b9ac9241e5e44a01940da8fbb17fc\n",
            "Successfully built pyspark\n",
            "Installing collected packages: findspark, pyspark\n",
            "Successfully installed findspark-2.0.1 pyspark-3.5.0\n"
          ]
        }
      ],
      "source": [
        "!pip install pyspark==3.5.0 findspark"
      ]
    },
    {
      "cell_type": "code",
      "source": [
        "import findspark\n",
        "findspark.init()"
      ],
      "metadata": {
        "id": "QDReOgODnRws"
      },
      "execution_count": 3,
      "outputs": []
    },
    {
      "cell_type": "code",
      "source": [
        "from pyspark.sql import SparkSession\n",
        "spark = SparkSession.builder.appName(\"Day15\").getOrCreate()"
      ],
      "metadata": {
        "id": "J3go49bWnVmx"
      },
      "execution_count": 4,
      "outputs": []
    },
    {
      "cell_type": "code",
      "source": [
        "\n",
        "my_list = [1, 2, 3, 4, 5]\n",
        "rdd = spark.sparkContext.parallelize(my_list)"
      ],
      "metadata": {
        "id": "uUuBsUYgEvvn"
      },
      "execution_count": 14,
      "outputs": []
    },
    {
      "cell_type": "code",
      "source": [
        "rdd = spark.sparkContext.textFile(\"sample_data/data.txt\")"
      ],
      "metadata": {
        "id": "EuOCuCmkEws2"
      },
      "execution_count": 15,
      "outputs": []
    },
    {
      "cell_type": "code",
      "source": [
        "text_rdd = spark.sparkContext.textFile(\"sample_data/book.txt\")\n",
        "\n",
        "text_rdd.collect()\n",
        "words = text_rdd.flatMap(lambda line: line.split(\" \"))\n",
        "word_counts = words.map(lambda word: (word, 1)).reduceByKey(lambda a, b: a + b)\n",
        "word_counts.collect() # Action!\n"
      ],
      "metadata": {
        "colab": {
          "base_uri": "https://localhost:8080/"
        },
        "id": "PqmDOmOuE5sR",
        "outputId": "b0f6c890-1128-46ff-e16d-531dbe6edf11"
      },
      "execution_count": 21,
      "outputs": [
        {
          "output_type": "execute_result",
          "data": {
            "text/plain": [
              "[('heart', 1),\n",
              " ('of', 12),\n",
              " ('Mumbai,', 1),\n",
              " ('Kapoor,', 1),\n",
              " ('passionate', 1),\n",
              " ('school', 3),\n",
              " ('children.', 1),\n",
              " ('Her', 1),\n",
              " ('path', 2),\n",
              " ('crosses', 1),\n",
              " ('Arjun', 3),\n",
              " ('deep-seated', 1),\n",
              " ('vendetta', 1),\n",
              " ('against', 1),\n",
              " ('Aditya', 2),\n",
              " ('Manipulated', 1),\n",
              " ('his', 13),\n",
              " ('was', 1),\n",
              " ('responsible', 1),\n",
              " ('own', 2),\n",
              " ('', 6),\n",
              " ('an', 1),\n",
              " ('opportunity', 1),\n",
              " ('uses', 1),\n",
              " ('influence', 2),\n",
              " ('resources', 1),\n",
              " ('help', 1),\n",
              " ('her', 14),\n",
              " ('school,', 1),\n",
              " ('as', 5),\n",
              " ('benefactor', 1),\n",
              " ('secretly', 1),\n",
              " ('However,', 2),\n",
              " ('he', 2),\n",
              " ('know', 1),\n",
              " ('Kiara,', 2),\n",
              " ('infectious', 1),\n",
              " ('resolve', 1),\n",
              " ('begins', 1),\n",
              " ('finds', 1),\n",
              " ('her,', 1),\n",
              " ('genuine', 1),\n",
              " ('blurring', 1),\n",
              " ('encounter.', 1),\n",
              " ('Arjun.', 1),\n",
              " ('Despite', 1),\n",
              " ('initial', 2),\n",
              " ('suspicions,', 1),\n",
              " ('unexpected', 1),\n",
              " ('acts', 1),\n",
              " ('kindness,', 1),\n",
              " ('them.', 1),\n",
              " ('unaware', 1),\n",
              " ('deceit', 1),\n",
              " ('woven', 1),\n",
              " ('around', 2),\n",
              " ('project', 1),\n",
              " ('progresses,', 1),\n",
              " ('grows', 1),\n",
              " ('increasingly', 1),\n",
              " (\"Arjun's\", 3),\n",
              " ('towards', 1),\n",
              " ('threat', 1),\n",
              " ('plan', 2),\n",
              " ('brutal', 1),\n",
              " ('Arjun,', 2),\n",
              " ('protective', 1),\n",
              " ('saves', 1),\n",
              " ('further', 1),\n",
              " ('solidifying', 1),\n",
              " ('both', 2),\n",
              " ('savior', 1),\n",
              " ('source', 1),\n",
              " ('danger.', 1),\n",
              " ('The', 3),\n",
              " ('forces', 1),\n",
              " ('in', 2),\n",
              " ('life.', 2),\n",
              " ('She', 1),\n",
              " ('learns', 1),\n",
              " ('spun', 1),\n",
              " ('shatters', 1),\n",
              " ('trust,', 1),\n",
              " ('heartbroken', 1),\n",
              " ('unsure', 1),\n",
              " ('believe.', 1),\n",
              " ('consumed', 1),\n",
              " ('guilt', 1),\n",
              " ('remorse,', 1),\n",
              " ('love', 2),\n",
              " ('promises', 1),\n",
              " ('make', 1),\n",
              " ('into', 1),\n",
              " ('But', 1),\n",
              " ('is', 1),\n",
              " ('fraught', 1),\n",
              " ('obstacles,', 1),\n",
              " ('must', 1),\n",
              " ('relationship,', 1),\n",
              " ('project,', 1),\n",
              " ('legacy', 1),\n",
              " ('families', 1),\n",
              " ('balance.', 1),\n",
              " ('Will', 1),\n",
              " ('conquer', 1),\n",
              " ('forgive', 1),\n",
              " ('And', 1),\n",
              " ('able', 1),\n",
              " ('everything', 1),\n",
              " ('together?', 1),\n",
              " ('In', 1),\n",
              " ('the', 16),\n",
              " ('bustling', 1),\n",
              " ('Kiara', 4),\n",
              " ('a', 7),\n",
              " ('teacher,', 1),\n",
              " ('dreams', 1),\n",
              " ('building', 1),\n",
              " ('for', 6),\n",
              " ('underprivileged', 1),\n",
              " ('with', 5),\n",
              " ('Mehra,', 1),\n",
              " ('wealthy', 1),\n",
              " ('businessman', 1),\n",
              " ('harboring', 1),\n",
              " (\"Kiara's\", 1),\n",
              " ('father,', 1),\n",
              " ('Kapoor.', 1),\n",
              " ('by', 3),\n",
              " ('uncle,', 1),\n",
              " ('Raj,', 1),\n",
              " ('believes', 1),\n",
              " (\"father's\", 1),\n",
              " ('downfall.', 1),\n",
              " ('sees', 2),\n",
              " ('to', 15),\n",
              " ('exact', 1),\n",
              " ('revenge', 3),\n",
              " ('through', 1),\n",
              " ('Kiara.', 3),\n",
              " ('He', 4),\n",
              " ('and', 13),\n",
              " ('secure', 1),\n",
              " ('land', 1),\n",
              " ('presenting', 1),\n",
              " ('himself', 2),\n",
              " ('benevolent', 1),\n",
              " ('while', 1),\n",
              " ('plotting', 1),\n",
              " ('destroy', 2),\n",
              " ('family.', 1),\n",
              " ('gets', 1),\n",
              " ('witnessing', 1),\n",
              " ('unwavering', 1),\n",
              " ('dedication', 1),\n",
              " ('optimism,', 1),\n",
              " ('crumble.', 1),\n",
              " ('drawn', 2),\n",
              " ('lines', 1),\n",
              " ('between', 2),\n",
              " ('manipulation', 1),\n",
              " ('affection', 1),\n",
              " ('each', 1),\n",
              " ('Meanwhile,', 1),\n",
              " ('grapples', 1),\n",
              " ('growing', 1),\n",
              " ('feelings', 1),\n",
              " (\"she's\", 1),\n",
              " ('charisma,', 1),\n",
              " ('undeniable', 1),\n",
              " ('chemistry', 1),\n",
              " ('she', 1),\n",
              " ('remains', 1),\n",
              " ('ulterior', 1),\n",
              " ('motives', 1),\n",
              " ('web', 2),\n",
              " (\"he's\", 3),\n",
              " ('her.', 3),\n",
              " ('As', 1),\n",
              " ('Raj', 1),\n",
              " ('frustrated', 1),\n",
              " ('softening', 1),\n",
              " ('their', 2),\n",
              " ('orchestrates', 1),\n",
              " ('attack', 1),\n",
              " ('on', 1),\n",
              " ('driven', 1),\n",
              " ('instincts,', 1),\n",
              " ('complex', 1),\n",
              " ('role', 1),\n",
              " ('incident', 1),\n",
              " ('confront', 2),\n",
              " ('truth', 1),\n",
              " ('about', 1),\n",
              " ('involvement', 1),\n",
              " ('lies', 1),\n",
              " ('revelation', 1),\n",
              " ('leaving', 1),\n",
              " ('what', 1),\n",
              " ('confesses', 1),\n",
              " ('amends,', 1),\n",
              " ('protect', 1),\n",
              " ('from', 1),\n",
              " ('darkness', 1),\n",
              " ('brought', 1),\n",
              " ('redemption', 1),\n",
              " ('demons', 1),\n",
              " ('manipulative', 1),\n",
              " ('uncle.', 1),\n",
              " ('fate', 1),\n",
              " ('hangs', 1),\n",
              " ('revenge?', 1),\n",
              " ('Can', 1),\n",
              " ('deception?', 1),\n",
              " ('will', 1),\n",
              " ('they', 1),\n",
              " ('be', 1),\n",
              " ('overcome', 1),\n",
              " ('obstacles', 1),\n",
              " ('that', 1),\n",
              " ('threaten', 1),\n",
              " (\"they've\", 1),\n",
              " ('built', 1)]"
            ]
          },
          "metadata": {},
          "execution_count": 21
        }
      ]
    }
  ]
}