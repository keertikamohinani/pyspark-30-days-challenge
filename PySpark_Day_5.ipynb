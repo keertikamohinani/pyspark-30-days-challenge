{
  "nbformat": 4,
  "nbformat_minor": 0,
  "metadata": {
    "colab": {
      "provenance": [],
      "authorship_tag": "ABX9TyMO7GGSXL4ONbQgtdwsvNXr"
    },
    "kernelspec": {
      "name": "python3",
      "display_name": "Python 3"
    },
    "language_info": {
      "name": "python"
    }
  },
  "cells": [
    {
      "cell_type": "code",
      "execution_count": 1,
      "metadata": {
        "colab": {
          "base_uri": "https://localhost:8080/"
        },
        "id": "FXSqKcWnmx3M",
        "outputId": "a80d9bd7-90b9-42fe-ff11-d7f78a742392"
      },
      "outputs": [
        {
          "output_type": "stream",
          "name": "stdout",
          "text": [
            "Collecting pyspark==3.5.0\n",
            "  Downloading pyspark-3.5.0.tar.gz (316.9 MB)\n",
            "\u001b[2K     \u001b[90m━━━━━━━━━━━━━━━━━━━━━━━━━━━━━━━━━━━━━━━━\u001b[0m \u001b[32m316.9/316.9 MB\u001b[0m \u001b[31m2.9 MB/s\u001b[0m eta \u001b[36m0:00:00\u001b[0m\n",
            "\u001b[?25h  Preparing metadata (setup.py) ... \u001b[?25l\u001b[?25hdone\n",
            "Collecting findspark\n",
            "  Downloading findspark-2.0.1-py2.py3-none-any.whl (4.4 kB)\n",
            "Requirement already satisfied: py4j==0.10.9.7 in /usr/local/lib/python3.10/dist-packages (from pyspark==3.5.0) (0.10.9.7)\n",
            "Building wheels for collected packages: pyspark\n",
            "  Building wheel for pyspark (setup.py) ... \u001b[?25l\u001b[?25hdone\n",
            "  Created wheel for pyspark: filename=pyspark-3.5.0-py2.py3-none-any.whl size=317425344 sha256=a63835c2caec0063c300423df03cade9dfa1fbdd65bb592e2ad18e6ac234acc3\n",
            "  Stored in directory: /root/.cache/pip/wheels/41/4e/10/c2cf2467f71c678cfc8a6b9ac9241e5e44a01940da8fbb17fc\n",
            "Successfully built pyspark\n",
            "Installing collected packages: findspark, pyspark\n",
            "Successfully installed findspark-2.0.1 pyspark-3.5.0\n"
          ]
        }
      ],
      "source": [
        "!pip install pyspark==3.5.0 findspark"
      ]
    },
    {
      "cell_type": "code",
      "source": [
        "import findspark\n",
        "findspark.init()"
      ],
      "metadata": {
        "id": "QDReOgODnRws"
      },
      "execution_count": 2,
      "outputs": []
    },
    {
      "cell_type": "code",
      "source": [
        "from pyspark.sql import SparkSession\n",
        "spark = SparkSession.builder.appName(\"Day4\").getOrCreate()"
      ],
      "metadata": {
        "id": "J3go49bWnVmx"
      },
      "execution_count": 3,
      "outputs": []
    },
    {
      "cell_type": "code",
      "source": [
        " movies_df = spark.read.csv(\"sample_data/movies_metadata.csv\", header=True, inferSchema=True)\n",
        "\n",
        " movies_df.show(5)\n",
        "\n",
        ""
      ],
      "metadata": {
        "colab": {
          "base_uri": "https://localhost:8080/"
        },
        "id": "_lbVUgDennD7",
        "outputId": "4480fddd-3592-4a91-91f0-1618aa8650df"
      },
      "execution_count": 32,
      "outputs": [
        {
          "output_type": "stream",
          "name": "stdout",
          "text": [
            "+-----+---------------------+--------+--------------------+--------------------+-----+---------+-----------------+--------------------+--------------------+----------+--------------------+--------------------+--------------------+--------------------+--------------------+--------------------+--------------------+--------+--------------------+--------------------+--------+--------------------+-----------------+\n",
            "|adult|belongs_to_collection|  budget|              genres|            homepage|   id|  imdb_id|original_language|      original_title|            overview|popularity|         poster_path|production_companies|production_countries|        release_date|             revenue|             runtime|    spoken_languages|  status|             tagline|               title|   video|        vote_average|       vote_count|\n",
            "+-----+---------------------+--------+--------------------+--------------------+-----+---------+-----------------+--------------------+--------------------+----------+--------------------+--------------------+--------------------+--------------------+--------------------+--------------------+--------------------+--------+--------------------+--------------------+--------+--------------------+-----------------+\n",
            "|False| {'id': 10194, 'na...|30000000|[{'id': 16, 'name...|http://toystory.d...|  862|tt0114709|               en|           Toy Story|Led by Woody, And...| 21.946943|/rhIRbceoE9lR4veE...|[{'name': 'Pixar ...|[{'iso_3166_1': '...|          1995-10-30|           373554033|                81.0|[{'iso_639_1': 'e...|Released|                NULL|           Toy Story|   False|                 7.7|             5415|\n",
            "|False|                 NULL|65000000|[{'id': 12, 'name...|                NULL| 8844|tt0113497|               en|             Jumanji|When siblings Jud...| 17.015539|/vzmL6fP7aPKNKPRT...|[{'name': 'TriSta...|[{'iso_3166_1': '...|          1995-12-15|           262797249|               104.0|[{'iso_639_1': 'e...|Released|Roll the dice and...|             Jumanji|   False|                 6.9|             2413|\n",
            "|False| {'id': 119050, 'n...|       0|[{'id': 10749, 'n...|                NULL|15602|tt0113228|               en|    Grumpier Old Men|A family wedding ...|   11.7129|/6ksm1sjKMFLbO7UY...|[{'name': 'Warner...|[{'iso_3166_1': '...|          1995-12-22|                   0|               101.0|[{'iso_639_1': 'e...|Released|Still Yelling. St...|    Grumpier Old Men|   False|                 6.5|               92|\n",
            "|False|                 NULL|16000000|[{'id': 35, 'name...|                NULL|31357|tt0114885|               en|   Waiting to Exhale|\"Cheated on, mist...|    Bernie| Glo and Robin ta...| determined to fi...|            3.859495|/16XOMpEaLWkrcPqS...|[{'name': 'Twenti...|[{'iso_3166_1': '...|          1995-12-22|81452156|               127.0|[{'iso_639_1': 'e...|Released|Friends are the p...|Waiting to Exhale|\n",
            "|False| {'id': 96871, 'na...|       0|[{'id': 35, 'name...|                NULL|11862|tt0113041|               en|Father of the Bri...|Just when George ...|  8.387519|/e64sOI48hQXyru7n...|[{'name': 'Sandol...|[{'iso_3166_1': '...|          1995-02-10|            76578911|               106.0|[{'iso_639_1': 'e...|Released|Just When His Wor...|Father of the Bri...|   False|                 5.7|              173|\n",
            "+-----+---------------------+--------+--------------------+--------------------+-----+---------+-----------------+--------------------+--------------------+----------+--------------------+--------------------+--------------------+--------------------+--------------------+--------------------+--------------------+--------+--------------------+--------------------+--------+--------------------+-----------------+\n",
            "only showing top 5 rows\n",
            "\n"
          ]
        }
      ]
    },
    {
      "cell_type": "code",
      "source": [
        "movies_df.printSchema()"
      ],
      "metadata": {
        "colab": {
          "base_uri": "https://localhost:8080/"
        },
        "id": "ODFz26nqoTxg",
        "outputId": "06617d7c-64e0-48da-9cda-785e3a051336"
      },
      "execution_count": 16,
      "outputs": [
        {
          "output_type": "stream",
          "name": "stdout",
          "text": [
            "root\n",
            " |-- adult: string (nullable = true)\n",
            " |-- belongs_to_collection: string (nullable = true)\n",
            " |-- budget: string (nullable = true)\n",
            " |-- genres: string (nullable = true)\n",
            " |-- homepage: string (nullable = true)\n",
            " |-- id: string (nullable = true)\n",
            " |-- imdb_id: string (nullable = true)\n",
            " |-- original_language: string (nullable = true)\n",
            " |-- original_title: string (nullable = true)\n",
            " |-- overview: string (nullable = true)\n",
            " |-- popularity: string (nullable = true)\n",
            " |-- poster_path: string (nullable = true)\n",
            " |-- production_companies: string (nullable = true)\n",
            " |-- production_countries: string (nullable = true)\n",
            " |-- release_date: string (nullable = true)\n",
            " |-- revenue: string (nullable = true)\n",
            " |-- runtime: string (nullable = true)\n",
            " |-- spoken_languages: string (nullable = true)\n",
            " |-- status: string (nullable = true)\n",
            " |-- tagline: string (nullable = true)\n",
            " |-- title: string (nullable = true)\n",
            " |-- video: string (nullable = true)\n",
            " |-- vote_average: string (nullable = true)\n",
            " |-- vote_count: string (nullable = true)\n",
            "\n"
          ]
        }
      ]
    },
    {
      "cell_type": "code",
      "source": [
        "movies_df.describe().show()"
      ],
      "metadata": {
        "colab": {
          "base_uri": "https://localhost:8080/"
        },
        "id": "bf72dN-ioai2",
        "outputId": "8ea06f75-6e41-4790-c6ef-ba78f2fe1b41"
      },
      "execution_count": 17,
      "outputs": [
        {
          "output_type": "stream",
          "name": "stdout",
          "text": [
            "+-------+--------------------+---------------------+--------------------+--------------------+--------------------+--------------------+---------+------------------+--------------+-----------------+-------------------+--------------------+--------------------+--------------------+--------------------+--------------------+--------------------+--------------------+--------------------+--------------------+---------+--------------------+--------------------+--------------------+\n",
            "|summary|               adult|belongs_to_collection|              budget|              genres|            homepage|                  id|  imdb_id| original_language|original_title|         overview|         popularity|         poster_path|production_companies|production_countries|        release_date|             revenue|             runtime|    spoken_languages|              status|             tagline|    title|               video|        vote_average|          vote_count|\n",
            "+-------+--------------------+---------------------+--------------------+--------------------+--------------------+--------------------+---------+------------------+--------------+-----------------+-------------------+--------------------+--------------------+--------------------+--------------------+--------------------+--------------------+--------------------+--------------------+--------------------+---------+--------------------+--------------------+--------------------+\n",
            "|  count|                6370|                 1006|                6370|                6368|                 441|                6368|     6337|              6366|          6368|             6344|               6362|                6339|                6360|                6361|                6357|                6361|                6355|                6357|                6349|                4821|     6308|                6326|                6325|                6340|\n",
            "|   mean|                NULL|             0.001178|    9292353.41195068|  2.8303776666666667|1.7463889367015306E7|  31774.938053097347|      0.0|10511.085714285715|      Infinity|             59.6| 5.8288083376421955|   6.024694503597125|   6.462351397350994|   5.291590615384615|   5.193539533333333| 2.695012988780792E7|    876659.821527095|1.5580830962289969E7|   8727971.126513466|  4371906.6176394215| Infinity|  1508891.8702069689|  54769.349986369365|  24265.207985324614|\n",
            "| stddev|                NULL|                 NULL|2.0341470321952272E7|    1.77636296980497|3.0900967370137025E7|  44875.269333413926|     NULL|7097.2571602217795|           NaN|54.56464056511323|  25.62882763765818|   6.975537506151185|   4.940970774955606|   4.746425516857335|   4.538212759466879| 8.156508072328535E7|1.2339521330535801E7| 4.897558135227184E7| 3.442593334593102E7|2.5126741414074033E7|      NaN|   6763886.574613271|  3912559.9654313913|   947096.2416650343|\n",
            "|    min| - Written by Jam...|  Terror Train fea...| 'poster_path': '...| 'backdrop_path':...| 'backdrop_path':...|/pEzCLGxq4bXafTOR...|        0|             10246|'night, Mother|                 | \"\"No Imagination\"\"|  convinces the b...| \"\"No Smoking\"\" f...| \"\"HE will be PLE...| \"\"Get my husband...|         'id': 1171}|            Arkansas|        'id': 12009}| \"\"The E-Street S...|        'id': 18367}|         |        'id': 12024}| and the pursuit ...|        'id': 23433}|\n",
            "|    max|               False| {'id': 99727, 'na...|            98000000|[{'id': 99, 'name...|https://www.warne...|[{'name': 'Sandy ...|tt2378428|                zh|        취화선|        tt0099669|           花樣年華|[{'iso_639_1': 'e...|[{'name': 'Új Bud...|[{'name': 'WingNu...|[{'name': 'Willia...|[{'name': 'Walt D...|[{'name': 'Warner...|[{'name': 'Yleisr...|[{'name': 'Walt D...|…you won't be com...|À la mode|[{'name': 'WingNu...|                 xXx|[{'iso_639_1': 'e...|\n",
            "+-------+--------------------+---------------------+--------------------+--------------------+--------------------+--------------------+---------+------------------+--------------+-----------------+-------------------+--------------------+--------------------+--------------------+--------------------+--------------------+--------------------+--------------------+--------------------+--------------------+---------+--------------------+--------------------+--------------------+\n",
            "\n"
          ]
        }
      ]
    },
    {
      "cell_type": "code",
      "source": [
        "ratings_df = movies_df.select(\"title\", \"vote_average\", \"release_date\")\n",
        "ratings_df.show()"
      ],
      "metadata": {
        "colab": {
          "base_uri": "https://localhost:8080/"
        },
        "id": "6wivH7N_oyTi",
        "outputId": "cc5ef4b9-8b68-4083-e20e-fe8120ebe290"
      },
      "execution_count": 33,
      "outputs": [
        {
          "output_type": "stream",
          "name": "stdout",
          "text": [
            "+--------------------+--------------------+--------------------+\n",
            "|               title|        vote_average|        release_date|\n",
            "+--------------------+--------------------+--------------------+\n",
            "|           Toy Story|                 7.7|          1995-10-30|\n",
            "|             Jumanji|                 6.9|          1995-12-15|\n",
            "|    Grumpier Old Men|                 6.5|          1995-12-22|\n",
            "|[{'iso_639_1': 'e...|Friends are the p...|/16XOMpEaLWkrcPqS...|\n",
            "|Father of the Bri...|                 5.7|          1995-02-10|\n",
            "|                Heat|                 7.7|          1995-12-15|\n",
            "|             Sabrina|                 6.2|          1995-12-15|\n",
            "|        Tom and Huck|                 5.4|          1995-12-22|\n",
            "|        Sudden Death|                 5.5|          1995-12-22|\n",
            "|           GoldenEye|                 6.6|          1995-11-16|\n",
            "|The American Pres...|                 6.5|          1995-11-17|\n",
            "|Dracula: Dead and...|                 5.7|          1995-12-22|\n",
            "|               Balto|                 7.1|          1995-12-22|\n",
            "|               Nixon|                 7.1|          1995-12-22|\n",
            "|    Cutthroat Island|                 5.7|          1995-12-22|\n",
            "|              Casino|                 7.8|          1995-11-22|\n",
            "|Sense and Sensibi...|                 7.2|          1995-12-13|\n",
            "|          Four Rooms|                 6.5|          1995-12-09|\n",
            "|Ace Ventura: When...|                 6.1|          1995-11-10|\n",
            "|         Money Train|                 5.4|          1995-11-21|\n",
            "+--------------------+--------------------+--------------------+\n",
            "only showing top 20 rows\n",
            "\n"
          ]
        }
      ]
    },
    {
      "cell_type": "code",
      "source": [
        "action_movies = movies_df.filter(movies_df.genres.like(\"%Action%\"))\n",
        "action_movies.show(5)\n",
        "\n",
        "high_rated_movies = movies_df.filter(movies_df.vote_average > 7.5)\n",
        "high_rated_movies.show(5)\n",
        ""
      ],
      "metadata": {
        "colab": {
          "base_uri": "https://localhost:8080/"
        },
        "id": "2yg4L3rfpFLs",
        "outputId": "7f8b1e1d-d23c-4a05-8e51-dc3b40364f29"
      },
      "execution_count": 34,
      "outputs": [
        {
          "output_type": "stream",
          "name": "stdout",
          "text": [
            "+-----+---------------------+--------+--------------------+--------------------+-----+---------+-----------------+----------------+--------------------+----------+--------------------+--------------------+--------------------+------------+---------+-------+--------------------+--------+--------------------+----------------+-----+------------+----------+\n",
            "|adult|belongs_to_collection|  budget|              genres|            homepage|   id|  imdb_id|original_language|  original_title|            overview|popularity|         poster_path|production_companies|production_countries|release_date|  revenue|runtime|    spoken_languages|  status|             tagline|           title|video|vote_average|vote_count|\n",
            "+-----+---------------------+--------+--------------------+--------------------+-----+---------+-----------------+----------------+--------------------+----------+--------------------+--------------------+--------------------+------------+---------+-------+--------------------+--------+--------------------+----------------+-----+------------+----------+\n",
            "|False|                 NULL|60000000|[{'id': 28, 'name...|                NULL|  949|tt0113277|               en|            Heat|Obsessive master ...| 17.924927|/zMyfPUelumio3tiD...|[{'name': 'Regenc...|[{'iso_3166_1': '...|  1995-12-15|187436818|  170.0|[{'iso_639_1': 'e...|Released|A Los Angeles Cri...|            Heat|False|         7.7|      1886|\n",
            "|False|                 NULL|       0|[{'id': 28, 'name...|                NULL|45325|tt0112302|               en|    Tom and Huck|A mischievous you...|  2.561161|/sGO5Qa55p7wTu7FJ...|[{'name': 'Walt D...|[{'iso_3166_1': '...|  1995-12-22|        0|   97.0|[{'iso_639_1': 'e...|Released|The Original Bad ...|    Tom and Huck|False|         5.4|        45|\n",
            "|False|                 NULL|35000000|[{'id': 28, 'name...|                NULL| 9091|tt0114576|               en|    Sudden Death|International act...|   5.23158|/eoWvKD60lT95Ss1M...|[{'name': 'Univer...|[{'iso_3166_1': '...|  1995-12-22| 64350171|  106.0|[{'iso_639_1': 'e...|Released|Terror goes into ...|    Sudden Death|False|         5.5|       174|\n",
            "|False| {'id': 645, 'name...|58000000|[{'id': 12, 'name...|http://www.mgm.co...|  710|tt0113189|               en|       GoldenEye|James Bond must u...| 14.686036|/5c0ovjT41KnYIHYu...|[{'name': 'United...|[{'iso_3166_1': '...|  1995-11-16|352194034|  130.0|[{'iso_639_1': 'e...|Released|No limits. No fea...|       GoldenEye|False|         6.6|      1194|\n",
            "|False|                 NULL|98000000|[{'id': 28, 'name...|                NULL| 1408|tt0112760|               en|Cutthroat Island|Morgan Adams and ...|  7.284477|/odM9973kIv9hcjfH...|[{'name': 'Le Stu...|[{'iso_3166_1': '...|  1995-12-22| 10017322|  119.0|[{'iso_639_1': 'e...|Released|The Course Has Be...|Cutthroat Island|False|         5.7|       137|\n",
            "+-----+---------------------+--------+--------------------+--------------------+-----+---------+-----------------+----------------+--------------------+----------+--------------------+--------------------+--------------------+------------+---------+-------+--------------------+--------+--------------------+----------------+-----+------------+----------+\n",
            "only showing top 5 rows\n",
            "\n",
            "+-----+---------------------+--------+--------------------+--------------------+-----+---------+-----------------+------------------+--------------------+----------+--------------------+--------------------+--------------------+------------+---------+-------+--------------------+--------+--------------------+------------------+-----+------------+----------+\n",
            "|adult|belongs_to_collection|  budget|              genres|            homepage|   id|  imdb_id|original_language|    original_title|            overview|popularity|         poster_path|production_companies|production_countries|release_date|  revenue|runtime|    spoken_languages|  status|             tagline|             title|video|vote_average|vote_count|\n",
            "+-----+---------------------+--------+--------------------+--------------------+-----+---------+-----------------+------------------+--------------------+----------+--------------------+--------------------+--------------------+------------+---------+-------+--------------------+--------+--------------------+------------------+-----+------------+----------+\n",
            "|False| {'id': 10194, 'na...|30000000|[{'id': 16, 'name...|http://toystory.d...|  862|tt0114709|               en|         Toy Story|Led by Woody, And...| 21.946943|/rhIRbceoE9lR4veE...|[{'name': 'Pixar ...|[{'iso_3166_1': '...|  1995-10-30|373554033|   81.0|[{'iso_639_1': 'e...|Released|                NULL|         Toy Story|False|         7.7|      5415|\n",
            "|False|                 NULL|60000000|[{'id': 28, 'name...|                NULL|  949|tt0113277|               en|              Heat|Obsessive master ...| 17.924927|/zMyfPUelumio3tiD...|[{'name': 'Regenc...|[{'iso_3166_1': '...|  1995-12-15|187436818|  170.0|[{'iso_639_1': 'e...|Released|A Los Angeles Cri...|              Heat|False|         7.7|      1886|\n",
            "|False|                 NULL|52000000|[{'id': 18, 'name...|                NULL|  524|tt0112641|               en|            Casino|The life of the g...| 10.137389|/xo517ibXBDdYQY81...|[{'name': 'Univer...|[{'iso_3166_1': '...|  1995-11-22|116112375|  178.0|[{'iso_639_1': 'e...|Released|No one stays at t...|            Casino|False|         7.8|      1343|\n",
            "|False|                 NULL| 6000000|[{'id': 18, 'name...|http://www.mgm.co...|  629|tt0114814|               en|The Usual Suspects|Held in an L.A. i...| 16.302466|/jgJoRWltoS17nD5M...|[{'name': 'Blue P...|[{'iso_3166_1': '...|  1995-07-19| 23341568|  106.0|[{'iso_639_1': 'e...|Released|Five Criminals. O...|The Usual Suspects|False|         8.1|      3334|\n",
            "|False|                 NULL|       0|[{'id': 18, 'name...|                NULL|49133|tt0110299|               it|          Lamerica|Fiore, an Italian...|  1.361286|/407nYlg60AOj95lq...|                  []|[{'iso_3166_1': '...|  1994-01-01|        0|  116.0|[{'iso_639_1': 's...|Released|                NULL|          Lamerica|False|         7.7|        11|\n",
            "+-----+---------------------+--------+--------------------+--------------------+-----+---------+-----------------+------------------+--------------------+----------+--------------------+--------------------+--------------------+------------+---------+-------+--------------------+--------+--------------------+------------------+-----+------------+----------+\n",
            "only showing top 5 rows\n",
            "\n"
          ]
        }
      ]
    },
    {
      "cell_type": "code",
      "source": [
        "from pyspark.sql.functions import year, col\n",
        "movies_with_year = movies_df.withColumn(\"release_year\", year(movies_df.release_date))\n",
        "\n",
        "movies_with_year.show(5)\n",
        "\n",
        "# Example (assuming 'budget' and 'revenue' columns exist)\n",
        "movies_with_profit = movies_df.withColumn(\"profit\", col(\"revenue\") - col(\"budget\"))\n",
        "movies_with_profit.show(5)"
      ],
      "metadata": {
        "colab": {
          "base_uri": "https://localhost:8080/"
        },
        "id": "RnHH3PyOp4vO",
        "outputId": "bb932493-7184-4141-dcdd-70323651fef0"
      },
      "execution_count": 35,
      "outputs": [
        {
          "output_type": "stream",
          "name": "stdout",
          "text": [
            "+-----+---------------------+--------+--------------------+--------------------+-----+---------+-----------------+--------------------+--------------------+----------+--------------------+--------------------+--------------------+--------------------+--------------------+--------------------+--------------------+--------+--------------------+--------------------+--------+--------------------+-----------------+------------+\n",
            "|adult|belongs_to_collection|  budget|              genres|            homepage|   id|  imdb_id|original_language|      original_title|            overview|popularity|         poster_path|production_companies|production_countries|        release_date|             revenue|             runtime|    spoken_languages|  status|             tagline|               title|   video|        vote_average|       vote_count|release_year|\n",
            "+-----+---------------------+--------+--------------------+--------------------+-----+---------+-----------------+--------------------+--------------------+----------+--------------------+--------------------+--------------------+--------------------+--------------------+--------------------+--------------------+--------+--------------------+--------------------+--------+--------------------+-----------------+------------+\n",
            "|False| {'id': 10194, 'na...|30000000|[{'id': 16, 'name...|http://toystory.d...|  862|tt0114709|               en|           Toy Story|Led by Woody, And...| 21.946943|/rhIRbceoE9lR4veE...|[{'name': 'Pixar ...|[{'iso_3166_1': '...|          1995-10-30|           373554033|                81.0|[{'iso_639_1': 'e...|Released|                NULL|           Toy Story|   False|                 7.7|             5415|        1995|\n",
            "|False|                 NULL|65000000|[{'id': 12, 'name...|                NULL| 8844|tt0113497|               en|             Jumanji|When siblings Jud...| 17.015539|/vzmL6fP7aPKNKPRT...|[{'name': 'TriSta...|[{'iso_3166_1': '...|          1995-12-15|           262797249|               104.0|[{'iso_639_1': 'e...|Released|Roll the dice and...|             Jumanji|   False|                 6.9|             2413|        1995|\n",
            "|False| {'id': 119050, 'n...|       0|[{'id': 10749, 'n...|                NULL|15602|tt0113228|               en|    Grumpier Old Men|A family wedding ...|   11.7129|/6ksm1sjKMFLbO7UY...|[{'name': 'Warner...|[{'iso_3166_1': '...|          1995-12-22|                   0|               101.0|[{'iso_639_1': 'e...|Released|Still Yelling. St...|    Grumpier Old Men|   False|                 6.5|               92|        1995|\n",
            "|False|                 NULL|16000000|[{'id': 35, 'name...|                NULL|31357|tt0114885|               en|   Waiting to Exhale|\"Cheated on, mist...|    Bernie| Glo and Robin ta...| determined to fi...|            3.859495|/16XOMpEaLWkrcPqS...|[{'name': 'Twenti...|[{'iso_3166_1': '...|          1995-12-22|81452156|               127.0|[{'iso_639_1': 'e...|Released|Friends are the p...|Waiting to Exhale|        NULL|\n",
            "|False| {'id': 96871, 'na...|       0|[{'id': 35, 'name...|                NULL|11862|tt0113041|               en|Father of the Bri...|Just when George ...|  8.387519|/e64sOI48hQXyru7n...|[{'name': 'Sandol...|[{'iso_3166_1': '...|          1995-02-10|            76578911|               106.0|[{'iso_639_1': 'e...|Released|Just When His Wor...|Father of the Bri...|   False|                 5.7|              173|        1995|\n",
            "+-----+---------------------+--------+--------------------+--------------------+-----+---------+-----------------+--------------------+--------------------+----------+--------------------+--------------------+--------------------+--------------------+--------------------+--------------------+--------------------+--------+--------------------+--------------------+--------+--------------------+-----------------+------------+\n",
            "only showing top 5 rows\n",
            "\n",
            "+-----+---------------------+--------+--------------------+--------------------+-----+---------+-----------------+--------------------+--------------------+----------+--------------------+--------------------+--------------------+--------------------+--------------------+--------------------+--------------------+--------+--------------------+--------------------+--------+--------------------+-----------------+------------+\n",
            "|adult|belongs_to_collection|  budget|              genres|            homepage|   id|  imdb_id|original_language|      original_title|            overview|popularity|         poster_path|production_companies|production_countries|        release_date|             revenue|             runtime|    spoken_languages|  status|             tagline|               title|   video|        vote_average|       vote_count|      profit|\n",
            "+-----+---------------------+--------+--------------------+--------------------+-----+---------+-----------------+--------------------+--------------------+----------+--------------------+--------------------+--------------------+--------------------+--------------------+--------------------+--------------------+--------+--------------------+--------------------+--------+--------------------+-----------------+------------+\n",
            "|False| {'id': 10194, 'na...|30000000|[{'id': 16, 'name...|http://toystory.d...|  862|tt0114709|               en|           Toy Story|Led by Woody, And...| 21.946943|/rhIRbceoE9lR4veE...|[{'name': 'Pixar ...|[{'iso_3166_1': '...|          1995-10-30|           373554033|                81.0|[{'iso_639_1': 'e...|Released|                NULL|           Toy Story|   False|                 7.7|             5415|3.43554033E8|\n",
            "|False|                 NULL|65000000|[{'id': 12, 'name...|                NULL| 8844|tt0113497|               en|             Jumanji|When siblings Jud...| 17.015539|/vzmL6fP7aPKNKPRT...|[{'name': 'TriSta...|[{'iso_3166_1': '...|          1995-12-15|           262797249|               104.0|[{'iso_639_1': 'e...|Released|Roll the dice and...|             Jumanji|   False|                 6.9|             2413|1.97797249E8|\n",
            "|False| {'id': 119050, 'n...|       0|[{'id': 10749, 'n...|                NULL|15602|tt0113228|               en|    Grumpier Old Men|A family wedding ...|   11.7129|/6ksm1sjKMFLbO7UY...|[{'name': 'Warner...|[{'iso_3166_1': '...|          1995-12-22|                   0|               101.0|[{'iso_639_1': 'e...|Released|Still Yelling. St...|    Grumpier Old Men|   False|                 6.5|               92|         0.0|\n",
            "|False|                 NULL|16000000|[{'id': 35, 'name...|                NULL|31357|tt0114885|               en|   Waiting to Exhale|\"Cheated on, mist...|    Bernie| Glo and Robin ta...| determined to fi...|            3.859495|/16XOMpEaLWkrcPqS...|[{'name': 'Twenti...|[{'iso_3166_1': '...|          1995-12-22|81452156|               127.0|[{'iso_639_1': 'e...|Released|Friends are the p...|Waiting to Exhale|        NULL|\n",
            "|False| {'id': 96871, 'na...|       0|[{'id': 35, 'name...|                NULL|11862|tt0113041|               en|Father of the Bri...|Just when George ...|  8.387519|/e64sOI48hQXyru7n...|[{'name': 'Sandol...|[{'iso_3166_1': '...|          1995-02-10|            76578911|               106.0|[{'iso_639_1': 'e...|Released|Just When His Wor...|Father of the Bri...|   False|                 5.7|              173| 7.6578911E7|\n",
            "+-----+---------------------+--------+--------------------+--------------------+-----+---------+-----------------+--------------------+--------------------+----------+--------------------+--------------------+--------------------+--------------------+--------------------+--------------------+--------------------+--------+--------------------+--------------------+--------+--------------------+-----------------+------------+\n",
            "only showing top 5 rows\n",
            "\n"
          ]
        }
      ]
    },
    {
      "cell_type": "code",
      "source": [
        "from pyspark.sql.functions import cast, avg\n",
        "from pyspark.sql.types import DoubleType\n",
        "\n",
        "avg_ratings_by_genre = movies_df.groupBy(\"genres\") \\\n",
        "                        .agg(avg(col(\"vote_average\").cast(DoubleType()))) \\\n",
        "                        .orderBy(\"avg(CAST(vote_average AS DOUBLE))\", ascending=False)\n",
        "\n",
        "avg_ratings_by_genre.show(5)\n",
        "\n"
      ],
      "metadata": {
        "colab": {
          "base_uri": "https://localhost:8080/"
        },
        "id": "Xn2FtZeXqN9a",
        "outputId": "2a01f991-4ae9-4bce-ca90-ad20b9830e6b"
      },
      "execution_count": 43,
      "outputs": [
        {
          "output_type": "stream",
          "name": "stdout",
          "text": [
            "+--------------------+---------------------------------+\n",
            "|              genres|avg(CAST(vote_average AS DOUBLE))|\n",
            "+--------------------+---------------------------------+\n",
            "|[{'id': 35, 'name...|                     2.96655431E8|\n",
            "|[{'id': 18, 'name...|                     2.52276927E8|\n",
            "|[{'id': 12, 'name...|             1.1615207522222223E7|\n",
            "|[{'id': 10402, 'n...|                       1154056.08|\n",
            "|[{'id': 28, 'name...|                798873.9236363636|\n",
            "+--------------------+---------------------------------+\n",
            "only showing top 5 rows\n",
            "\n"
          ]
        }
      ]
    },
    {
      "cell_type": "code",
      "source": [
        "movies_with_year.printSchema()"
      ],
      "metadata": {
        "colab": {
          "base_uri": "https://localhost:8080/"
        },
        "id": "_EcIajn2uKVl",
        "outputId": "519be936-bb11-4e56-976c-04f5080f1830"
      },
      "execution_count": 55,
      "outputs": [
        {
          "output_type": "stream",
          "name": "stdout",
          "text": [
            "root\n",
            " |-- adult: string (nullable = true)\n",
            " |-- belongs_to_collection: string (nullable = true)\n",
            " |-- budget: string (nullable = true)\n",
            " |-- genres: string (nullable = true)\n",
            " |-- homepage: string (nullable = true)\n",
            " |-- id: string (nullable = true)\n",
            " |-- imdb_id: string (nullable = true)\n",
            " |-- original_language: string (nullable = true)\n",
            " |-- original_title: string (nullable = true)\n",
            " |-- overview: string (nullable = true)\n",
            " |-- popularity: string (nullable = true)\n",
            " |-- poster_path: string (nullable = true)\n",
            " |-- production_companies: string (nullable = true)\n",
            " |-- production_countries: string (nullable = true)\n",
            " |-- release_date: string (nullable = true)\n",
            " |-- revenue: string (nullable = true)\n",
            " |-- runtime: string (nullable = true)\n",
            " |-- spoken_languages: string (nullable = true)\n",
            " |-- status: string (nullable = true)\n",
            " |-- tagline: string (nullable = true)\n",
            " |-- title: string (nullable = true)\n",
            " |-- video: string (nullable = true)\n",
            " |-- vote_average: string (nullable = true)\n",
            " |-- vote_count: string (nullable = true)\n",
            " |-- release_year: integer (nullable = true)\n",
            "\n"
          ]
        }
      ]
    }
  ]
}