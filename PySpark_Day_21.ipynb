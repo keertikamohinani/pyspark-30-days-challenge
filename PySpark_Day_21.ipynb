{
  "nbformat": 4,
  "nbformat_minor": 0,
  "metadata": {
    "colab": {
      "provenance": [],
      "authorship_tag": "ABX9TyMawpU6TDQoM8mfn//nJXZ5"
    },
    "kernelspec": {
      "name": "python3",
      "display_name": "Python 3"
    },
    "language_info": {
      "name": "python"
    }
  },
  "cells": [
    {
      "cell_type": "code",
      "execution_count": 1,
      "metadata": {
        "colab": {
          "base_uri": "https://localhost:8080/"
        },
        "id": "FXSqKcWnmx3M",
        "outputId": "bd7f357d-02f7-4958-fc8e-2a4c9d0732e4"
      },
      "outputs": [
        {
          "output_type": "stream",
          "name": "stdout",
          "text": [
            "Collecting pyspark==3.5.0\n",
            "  Downloading pyspark-3.5.0.tar.gz (316.9 MB)\n",
            "\u001b[2K     \u001b[90m━━━━━━━━━━━━━━━━━━━━━━━━━━━━━━━━━━━━━━━━\u001b[0m \u001b[32m316.9/316.9 MB\u001b[0m \u001b[31m2.0 MB/s\u001b[0m eta \u001b[36m0:00:00\u001b[0m\n",
            "\u001b[?25h  Preparing metadata (setup.py) ... \u001b[?25l\u001b[?25hdone\n",
            "Collecting findspark\n",
            "  Downloading findspark-2.0.1-py2.py3-none-any.whl (4.4 kB)\n",
            "Requirement already satisfied: py4j==0.10.9.7 in /usr/local/lib/python3.10/dist-packages (from pyspark==3.5.0) (0.10.9.7)\n",
            "Building wheels for collected packages: pyspark\n",
            "  Building wheel for pyspark (setup.py) ... \u001b[?25l\u001b[?25hdone\n",
            "  Created wheel for pyspark: filename=pyspark-3.5.0-py2.py3-none-any.whl size=317425344 sha256=86c22e3f5f6b071d555cacc0c5a0d337e16a541124c4af20756b01815b38538e\n",
            "  Stored in directory: /root/.cache/pip/wheels/41/4e/10/c2cf2467f71c678cfc8a6b9ac9241e5e44a01940da8fbb17fc\n",
            "Successfully built pyspark\n",
            "Installing collected packages: findspark, pyspark\n",
            "Successfully installed findspark-2.0.1 pyspark-3.5.0\n"
          ]
        }
      ],
      "source": [
        "!pip install pyspark==3.5.0 findspark"
      ]
    },
    {
      "cell_type": "code",
      "source": [
        "import findspark\n",
        "findspark.init()"
      ],
      "metadata": {
        "id": "QDReOgODnRws"
      },
      "execution_count": 3,
      "outputs": []
    },
    {
      "cell_type": "code",
      "source": [
        "from pyspark.sql import SparkSession\n",
        "\n",
        "spark = SparkSession.builder.appName(\"MovieAnalysis\").getOrCreate()\n",
        "\n",
        "movies_df = spark.read.csv(\"sample_data/movies_metadata.csv\", header=True, inferSchema=True)\n",
        "movies_df.createOrReplaceTempView(\"movies\")\n",
        "\n",
        "# Now you can run SQL queries on the movies_df DataFrame\n",
        "\n",
        "spark.sql(\"\"\"\n",
        "SELECT *\n",
        "FROM movies\n",
        "WHERE revenue > (\n",
        " SELECT AVG(revenue)\n",
        " FROM movies\n",
        " WHERE genres = movies.genres\n",
        ")\n",
        "\"\"\").show()"
      ],
      "metadata": {
        "colab": {
          "base_uri": "https://localhost:8080/"
        },
        "id": "p0pZc5lJKwRo",
        "outputId": "0d91bfad-fe0c-47dd-d261-1d2e96786d3f"
      },
      "execution_count": 43,
      "outputs": [
        {
          "output_type": "stream",
          "name": "stdout",
          "text": [
            "+-----+---------------------+--------+--------------------+--------------------+-----+---------+-----------------+--------------------+--------------------+----------+--------------------+--------------------+--------------------+------------+---------+-------+--------------------+--------+--------------------+--------------------+-----+------------+----------+\n",
            "|adult|belongs_to_collection|  budget|              genres|            homepage|   id|  imdb_id|original_language|      original_title|            overview|popularity|         poster_path|production_companies|production_countries|release_date|  revenue|runtime|    spoken_languages|  status|             tagline|               title|video|vote_average|vote_count|\n",
            "+-----+---------------------+--------+--------------------+--------------------+-----+---------+-----------------+--------------------+--------------------+----------+--------------------+--------------------+--------------------+------------+---------+-------+--------------------+--------+--------------------+--------------------+-----+------------+----------+\n",
            "|False| {'id': 10194, 'na...|30000000|[{'id': 16, 'name...|http://toystory.d...|  862|tt0114709|               en|           Toy Story|Led by Woody, And...| 21.946943|/rhIRbceoE9lR4veE...|[{'name': 'Pixar ...|[{'iso_3166_1': '...|  1995-10-30|373554033|   81.0|[{'iso_639_1': 'e...|Released|                NULL|           Toy Story|False|         7.7|      5415|\n",
            "|False|                 NULL|65000000|[{'id': 12, 'name...|                NULL| 8844|tt0113497|               en|             Jumanji|When siblings Jud...| 17.015539|/vzmL6fP7aPKNKPRT...|[{'name': 'TriSta...|[{'iso_3166_1': '...|  1995-12-15|262797249|  104.0|[{'iso_639_1': 'e...|Released|Roll the dice and...|             Jumanji|False|         6.9|      2413|\n",
            "|False| {'id': 96871, 'na...|       0|[{'id': 35, 'name...|                NULL|11862|tt0113041|               en|Father of the Bri...|Just when George ...|  8.387519|/e64sOI48hQXyru7n...|[{'name': 'Sandol...|[{'iso_3166_1': '...|  1995-02-10| 76578911|  106.0|[{'iso_639_1': 'e...|Released|Just When His Wor...|Father of the Bri...|False|         5.7|       173|\n",
            "|False|                 NULL|60000000|[{'id': 28, 'name...|                NULL|  949|tt0113277|               en|                Heat|Obsessive master ...| 17.924927|/zMyfPUelumio3tiD...|[{'name': 'Regenc...|[{'iso_3166_1': '...|  1995-12-15|187436818|  170.0|[{'iso_639_1': 'e...|Released|A Los Angeles Cri...|                Heat|False|         7.7|      1886|\n",
            "|False|                 NULL|35000000|[{'id': 28, 'name...|                NULL| 9091|tt0114576|               en|        Sudden Death|International act...|   5.23158|/eoWvKD60lT95Ss1M...|[{'name': 'Univer...|[{'iso_3166_1': '...|  1995-12-22| 64350171|  106.0|[{'iso_639_1': 'e...|Released|Terror goes into ...|        Sudden Death|False|         5.5|       174|\n",
            "|False| {'id': 645, 'name...|58000000|[{'id': 12, 'name...|http://www.mgm.co...|  710|tt0113189|               en|           GoldenEye|James Bond must u...| 14.686036|/5c0ovjT41KnYIHYu...|[{'name': 'United...|[{'iso_3166_1': '...|  1995-11-16|352194034|  130.0|[{'iso_639_1': 'e...|Released|No limits. No fea...|           GoldenEye|False|         6.6|      1194|\n",
            "|False|                 NULL|62000000|[{'id': 35, 'name...|                NULL| 9087|tt0112346|               en|The American Pres...|Widowed U.S. pres...|  6.318445|/lymPNGLZgPHuqM29...|[{'name': 'Columb...|[{'iso_3166_1': '...|  1995-11-17|107879496|  106.0|[{'iso_639_1': 'e...|Released|Why can't the mos...|The American Pres...|False|         6.5|       199|\n",
            "|False| {'id': 117693, 'n...|       0|[{'id': 10751, 'n...|                NULL|21032|tt0112453|               en|               Balto|An outcast half-w...| 12.140733|/gV5PCAVCPNxlOLFM...|[{'name': 'Univer...|[{'iso_3166_1': '...|  1995-12-22| 11348324|   78.0|[{'iso_639_1': 'e...|Released|Part Dog. Part Wo...|               Balto|False|         7.1|       423|\n",
            "|False|                 NULL|44000000|[{'id': 36, 'name...|                NULL|10858|tt0113987|               en|               Nixon|An all-star cast ...|     5.092|/cICkmCEiXRhvZmbu...|[{'name': 'Hollyw...|[{'iso_3166_1': '...|  1995-12-22| 13681765|  192.0|[{'iso_639_1': 'e...|Released|Triumphant in Vic...|               Nixon|False|         7.1|        72|\n",
            "|False|                 NULL|52000000|[{'id': 18, 'name...|                NULL|  524|tt0112641|               en|              Casino|The life of the g...| 10.137389|/xo517ibXBDdYQY81...|[{'name': 'Univer...|[{'iso_3166_1': '...|  1995-11-22|116112375|  178.0|[{'iso_639_1': 'e...|Released|No one stays at t...|              Casino|False|         7.8|      1343|\n",
            "|False|                 NULL|16500000|[{'id': 18, 'name...|                NULL| 4584|tt0114388|               en|Sense and Sensibi...|Rich Mr. Dashwood...| 10.673167|/lA9HTy84Bb6ZwNey...|[{'name': 'Columb...|[{'iso_3166_1': '...|  1995-12-13|135000000|  136.0|[{'iso_639_1': 'e...|Released|Lose your heart a...|Sense and Sensibi...|False|         7.2|       364|\n",
            "|False| {'id': 3167, 'nam...|30000000|[{'id': 80, 'name...|                NULL| 9273|tt0112281|               en|Ace Ventura: When...|Summoned from an ...|  8.205448|/wRlGnJhEzcxBjvWt...|[{'name': 'O Ente...|[{'iso_3166_1': '...|  1995-11-10|212385533|   90.0|[{'iso_639_1': 'e...|Released|New animals. New ...|Ace Ventura: When...|False|         6.1|      1128|\n",
            "|False|                 NULL|60000000|[{'id': 28, 'name...|                NULL|11517|tt0113845|               en|         Money Train|A vengeful New Yo...|  7.337906|/jSozzzVOR2kfXgTU...|[{'name': 'Columb...|[{'iso_3166_1': '...|  1995-11-21| 35431113|  103.0|[{'iso_639_1': 'e...|Released|Get on, or GET OU...|         Money Train|False|         5.4|       224|\n",
            "|False|                 NULL|50000000|[{'id': 28, 'name...|                NULL| 9691|tt0112401|               en|           Assassins|Assassin Robert R...| 11.065939|/xAx5MP7Dg4y85pyS...|[{'name': 'Silver...|[{'iso_3166_1': '...|  1995-10-06| 30303072|  132.0|[{'iso_639_1': 'e...|Released|In the shadows of...|           Assassins|False|         6.0|       394|\n",
            "|False|                 NULL| 3600000|[{'id': 18, 'name...|http://www.mgm.co...|  451|tt0113627|               en|   Leaving Las Vegas|Ben Sanderson, an...| 10.332025|/37qHRJxnSh5YkuaN...|[{'name': 'United...|[{'iso_3166_1': '...|  1995-10-27| 49800000|  112.0|[{'iso_639_1': 'e...|Released|I Love You... The...|   Leaving Las Vegas|False|         7.1|       365|\n",
            "|False|                 NULL|12000000|[{'id': 35, 'name...|                NULL| 9263|tt0114011|               en|        Now and Then|Waxing nostalgic ...|  8.681325|/wD6rLdD2Ix3u9YLg...|[{'name': 'New Li...|[{'iso_3166_1': '...|  1995-10-20| 27400000|  100.0|[{'iso_639_1': 'e...|Released|In every woman th...|        Now and Then|False|         6.6|        91|\n",
            "|False|                 NULL|       0|[{'id': 18, 'name...|                NULL| 9909|tt0112792|               en|     Dangerous Minds|Former Marine Lou...|  9.481338|/y5Jee3QmYOlpqfaP...|[{'name': 'Hollyw...|[{'iso_3166_1': '...|  1995-08-11|180000000|   99.0|[{'iso_639_1': 'e...|Released|She broke the rul...|     Dangerous Minds|False|         6.4|       249|\n",
            "|False|                 NULL|29500000|[{'id': 878, 'nam...|                NULL|   63|tt0114746|               en|      Twelve Monkeys|In the year 2035,...| 12.297305|/6Sj9wDu3YugthXsU...|[{'name': 'Univer...|[{'iso_3166_1': '...|  1995-12-29|168840000|  129.0|[{'iso_639_1': 'e...|Released|The future is his...|      Twelve Monkeys|False|         7.4|      2470|\n",
            "|False| {'id': 9435, 'nam...|30000000|[{'id': 14, 'name...|                NULL| 9598|tt0112431|               en|                Babe|Babe is a little ...| 14.404764|/gN6X3fwPya8pLffk...|[{'name': 'Univer...|[{'iso_3166_1': '...|  1995-07-18|254134910|   89.0|[{'iso_639_1': 'e...|Released|A little pig goes...|                Babe|False|         6.0|       756|\n",
            "|False|                 NULL|11000000|[{'id': 18, 'name...|                NULL|  687|tt0112818|               en|    Dead Man Walking|A justice drama b...|  6.891317|/y19uRkAHXOHLeySu...|[{'name': 'Havoc'...|[{'iso_3166_1': '...|  1995-12-29| 39363635|  122.0|[{'iso_639_1': 'e...|Released|                NULL|    Dead Man Walking|False|         7.3|       350|\n",
            "+-----+---------------------+--------+--------------------+--------------------+-----+---------+-----------------+--------------------+--------------------+----------+--------------------+--------------------+--------------------+------------+---------+-------+--------------------+--------+--------------------+--------------------+-----+------------+----------+\n",
            "only showing top 20 rows\n",
            "\n"
          ]
        }
      ]
    },
    {
      "cell_type": "code",
      "source": [
        "# Rank movies within each genre by revenue\n",
        "spark.sql(\"\"\"\n",
        "SELECT title, genres, revenue,\n",
        " RANK() OVER (PARTITION BY genres ORDER BY revenue DESC) AS rank\n",
        "FROM movies\n",
        "\"\"\").show()\n"
      ],
      "metadata": {
        "colab": {
          "base_uri": "https://localhost:8080/"
        },
        "id": "9XBkVxNtPXOo",
        "outputId": "42a414d5-7362-42e2-bda4-983a7dd933dc"
      },
      "execution_count": 44,
      "outputs": [
        {
          "output_type": "stream",
          "name": "stdout",
          "text": [
            "+-----+------+-------+----+\n",
            "|title|genres|revenue|rank|\n",
            "+-----+------+-------+----+\n",
            "| NULL|  NULL|   NULL|   1|\n",
            "| NULL|  NULL|   NULL|   1|\n",
            "| NULL|  NULL|   NULL|   1|\n",
            "| NULL|  NULL|   NULL|   1|\n",
            "| NULL|  NULL|   NULL|   1|\n",
            "| NULL|  NULL|   NULL|   1|\n",
            "| NULL|  NULL|   NULL|   1|\n",
            "| NULL|  NULL|   NULL|   1|\n",
            "| NULL|  NULL|   NULL|   1|\n",
            "| NULL|  NULL|   NULL|   1|\n",
            "| NULL|  NULL|   NULL|   1|\n",
            "| NULL|  NULL|   NULL|   1|\n",
            "| NULL|  NULL|   NULL|   1|\n",
            "| NULL|  NULL|   NULL|   1|\n",
            "| NULL|  NULL|   NULL|   1|\n",
            "| NULL|  NULL|   NULL|   1|\n",
            "| NULL|  NULL|   NULL|   1|\n",
            "| NULL|  NULL|   NULL|   1|\n",
            "| NULL|  NULL|   NULL|   1|\n",
            "| NULL|  NULL|   NULL|   1|\n",
            "+-----+------+-------+----+\n",
            "only showing top 20 rows\n",
            "\n"
          ]
        }
      ]
    }
  ]
}