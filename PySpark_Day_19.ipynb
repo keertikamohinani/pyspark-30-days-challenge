{
  "nbformat": 4,
  "nbformat_minor": 0,
  "metadata": {
    "colab": {
      "provenance": [],
      "authorship_tag": "ABX9TyN1hXn6CfMfzG4oUtkNAhoi"
    },
    "kernelspec": {
      "name": "python3",
      "display_name": "Python 3"
    },
    "language_info": {
      "name": "python"
    }
  },
  "cells": [
    {
      "cell_type": "code",
      "execution_count": 1,
      "metadata": {
        "colab": {
          "base_uri": "https://localhost:8080/"
        },
        "id": "FXSqKcWnmx3M",
        "outputId": "bd7f357d-02f7-4958-fc8e-2a4c9d0732e4"
      },
      "outputs": [
        {
          "output_type": "stream",
          "name": "stdout",
          "text": [
            "Collecting pyspark==3.5.0\n",
            "  Downloading pyspark-3.5.0.tar.gz (316.9 MB)\n",
            "\u001b[2K     \u001b[90m━━━━━━━━━━━━━━━━━━━━━━━━━━━━━━━━━━━━━━━━\u001b[0m \u001b[32m316.9/316.9 MB\u001b[0m \u001b[31m2.0 MB/s\u001b[0m eta \u001b[36m0:00:00\u001b[0m\n",
            "\u001b[?25h  Preparing metadata (setup.py) ... \u001b[?25l\u001b[?25hdone\n",
            "Collecting findspark\n",
            "  Downloading findspark-2.0.1-py2.py3-none-any.whl (4.4 kB)\n",
            "Requirement already satisfied: py4j==0.10.9.7 in /usr/local/lib/python3.10/dist-packages (from pyspark==3.5.0) (0.10.9.7)\n",
            "Building wheels for collected packages: pyspark\n",
            "  Building wheel for pyspark (setup.py) ... \u001b[?25l\u001b[?25hdone\n",
            "  Created wheel for pyspark: filename=pyspark-3.5.0-py2.py3-none-any.whl size=317425344 sha256=86c22e3f5f6b071d555cacc0c5a0d337e16a541124c4af20756b01815b38538e\n",
            "  Stored in directory: /root/.cache/pip/wheels/41/4e/10/c2cf2467f71c678cfc8a6b9ac9241e5e44a01940da8fbb17fc\n",
            "Successfully built pyspark\n",
            "Installing collected packages: findspark, pyspark\n",
            "Successfully installed findspark-2.0.1 pyspark-3.5.0\n"
          ]
        }
      ],
      "source": [
        "!pip install pyspark==3.5.0 findspark"
      ]
    },
    {
      "cell_type": "code",
      "source": [
        "import findspark\n",
        "findspark.init()"
      ],
      "metadata": {
        "id": "QDReOgODnRws"
      },
      "execution_count": 3,
      "outputs": []
    },
    {
      "cell_type": "code",
      "source": [
        "from pyspark.sql import SparkSession\n",
        "spark = SparkSession.builder.appName(\"Day19\").getOrCreate()\n",
        "sc = spark.sparkContext"
      ],
      "metadata": {
        "id": "J3go49bWnVmx"
      },
      "execution_count": 30,
      "outputs": []
    },
    {
      "cell_type": "code",
      "source": [
        "from pyspark.sql import Row\n",
        "# Define a schema (this is similar to how you'd create a DataFrame)\n",
        "Movie = Row(\"movieId\", \"title\", \"genres\")\n",
        "\n",
        "# Load movie data and convert to Dataset of Movie objects (assuming genres is a list)\n",
        "movies_df = spark.read.csv(\"sample_data/movies.csv\", header=True)\n",
        "movies_ds = movies_df.rdd.map(lambda row: Movie(int(row.movieId), row.title, row.genres.split(\"|\"))).toDF()\n",
        "\n",
        "# Example operation on the Dataset\n",
        "from pyspark.sql.functions import explode\n",
        "split_genres_ds = movies_ds.select(explode(movies_ds.genres).alias(\"genre\"))\n",
        "split_genres_ds.show()\n"
      ],
      "metadata": {
        "colab": {
          "base_uri": "https://localhost:8080/"
        },
        "id": "p0pZc5lJKwRo",
        "outputId": "e4d81399-a043-4f9c-a7cc-ffcad07d05c6"
      },
      "execution_count": 31,
      "outputs": [
        {
          "output_type": "stream",
          "name": "stdout",
          "text": [
            "+-----------+\n",
            "|      genre|\n",
            "+-----------+\n",
            "|  Adventure|\n",
            "|  Animation|\n",
            "|   Children|\n",
            "|     Comedy|\n",
            "|    Fantasy|\n",
            "|  Adventure|\n",
            "|   Children|\n",
            "|    Fantasy|\n",
            "|     Comedy|\n",
            "|    Romance|\n",
            "|     Action|\n",
            "|      Crime|\n",
            "|   Thriller|\n",
            "|      Crime|\n",
            "|      Drama|\n",
            "|      Drama|\n",
            "|    Romance|\n",
            "|    Mystery|\n",
            "|   Thriller|\n",
            "| The (1995)|\n",
            "+-----------+\n",
            "only showing top 20 rows\n",
            "\n"
          ]
        }
      ]
    }
  ]
}