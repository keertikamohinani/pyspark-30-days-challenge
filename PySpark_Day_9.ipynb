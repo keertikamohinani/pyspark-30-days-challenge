{
  "nbformat": 4,
  "nbformat_minor": 0,
  "metadata": {
    "colab": {
      "provenance": [],
      "authorship_tag": "ABX9TyM+HwWh1PRuALPTcYd5Btdg"
    },
    "kernelspec": {
      "name": "python3",
      "display_name": "Python 3"
    },
    "language_info": {
      "name": "python"
    }
  },
  "cells": [
    {
      "cell_type": "code",
      "execution_count": 1,
      "metadata": {
        "colab": {
          "base_uri": "https://localhost:8080/"
        },
        "id": "FXSqKcWnmx3M",
        "outputId": "a80d9bd7-90b9-42fe-ff11-d7f78a742392"
      },
      "outputs": [
        {
          "output_type": "stream",
          "name": "stdout",
          "text": [
            "Collecting pyspark==3.5.0\n",
            "  Downloading pyspark-3.5.0.tar.gz (316.9 MB)\n",
            "\u001b[2K     \u001b[90m━━━━━━━━━━━━━━━━━━━━━━━━━━━━━━━━━━━━━━━━\u001b[0m \u001b[32m316.9/316.9 MB\u001b[0m \u001b[31m2.9 MB/s\u001b[0m eta \u001b[36m0:00:00\u001b[0m\n",
            "\u001b[?25h  Preparing metadata (setup.py) ... \u001b[?25l\u001b[?25hdone\n",
            "Collecting findspark\n",
            "  Downloading findspark-2.0.1-py2.py3-none-any.whl (4.4 kB)\n",
            "Requirement already satisfied: py4j==0.10.9.7 in /usr/local/lib/python3.10/dist-packages (from pyspark==3.5.0) (0.10.9.7)\n",
            "Building wheels for collected packages: pyspark\n",
            "  Building wheel for pyspark (setup.py) ... \u001b[?25l\u001b[?25hdone\n",
            "  Created wheel for pyspark: filename=pyspark-3.5.0-py2.py3-none-any.whl size=317425344 sha256=a63835c2caec0063c300423df03cade9dfa1fbdd65bb592e2ad18e6ac234acc3\n",
            "  Stored in directory: /root/.cache/pip/wheels/41/4e/10/c2cf2467f71c678cfc8a6b9ac9241e5e44a01940da8fbb17fc\n",
            "Successfully built pyspark\n",
            "Installing collected packages: findspark, pyspark\n",
            "Successfully installed findspark-2.0.1 pyspark-3.5.0\n"
          ]
        }
      ],
      "source": [
        "!pip install pyspark==3.5.0 findspark"
      ]
    },
    {
      "cell_type": "code",
      "source": [
        "import findspark\n",
        "findspark.init()"
      ],
      "metadata": {
        "id": "QDReOgODnRws"
      },
      "execution_count": 2,
      "outputs": []
    },
    {
      "cell_type": "code",
      "source": [
        "from pyspark.sql import SparkSession\n",
        "spark = SparkSession.builder.appName(\"Day4\").getOrCreate()"
      ],
      "metadata": {
        "id": "J3go49bWnVmx"
      },
      "execution_count": 3,
      "outputs": []
    },
    {
      "cell_type": "code",
      "source": [
        "from pyspark.sql.types import StructType, StructField, StringType, BooleanType, DoubleType, IntegerType\n",
        "\n",
        "movie_schema = StructType([\n",
        "    StructField(\"adult\", BooleanType(), True),\n",
        "    StructField(\"belongs_to_collection\", StringType(), True),\n",
        "    StructField(\"budget\", DoubleType(), True),\n",
        "    StructField(\"genres\", StringType(), True),\n",
        "    StructField(\"homepage\", StringType(), True),\n",
        "    StructField(\"id\", StringType(), True),\n",
        "    StructField(\"imdb_id\", StringType(), True),\n",
        "    StructField(\"original_language\", StringType(), True),\n",
        "    StructField(\"original_title\", StringType(), True),\n",
        "    StructField(\"overview\", StringType(), True),\n",
        "    StructField(\"popularity\", StringType(), True),\n",
        "    StructField(\"poster_path\", StringType(), True),\n",
        "    StructField(\"production_companies\", StringType(), True),\n",
        "    StructField(\"production_countries\", StringType(), True),\n",
        "    StructField(\"release_date\", StringType(), True),\n",
        "    StructField(\"revenue\", DoubleType(), True),\n",
        "    StructField(\"runtime\", StringType(), True),\n",
        "    StructField(\"spoken_languages\", StringType(), True),\n",
        "    StructField(\"status\", StringType(), True),\n",
        "    StructField(\"tagline\", StringType(), True),\n",
        "    StructField(\"title\", StringType(), True),\n",
        "    StructField(\"video\", StringType(), True),\n",
        "    StructField(\"vote_average\", DoubleType(), True),\n",
        "    StructField(\"vote_count\", IntegerType(), True)\n",
        "])\n"
      ],
      "metadata": {
        "id": "xXT75gXxZmPQ"
      },
      "execution_count": null,
      "outputs": []
    },
    {
      "cell_type": "code",
      "source": [
        " movies_df = spark.read.csv(\"sample_data/movies_metadata.csv\", header=True, schema = movie_schema)\n",
        "\n",
        " movies_df.show(5)\n",
        "\n",
        ""
      ],
      "metadata": {
        "colab": {
          "base_uri": "https://localhost:8080/"
        },
        "id": "_lbVUgDennD7",
        "outputId": "f4de3fa6-bcb4-4b51-fccd-6f83f7d27473"
      },
      "execution_count": 58,
      "outputs": [
        {
          "output_type": "stream",
          "name": "stdout",
          "text": [
            "+-----+---------------------+------+--------------------+--------------------+-----+---------+-----------------+--------------------+--------------------+----------+--------------------+--------------------+--------------------+--------------------+------------+--------------------+--------------------+--------+--------------------+--------------------+--------+------------+----------+\n",
            "|adult|belongs_to_collection|budget|              genres|            homepage|   id|  imdb_id|original_language|      original_title|            overview|popularity|         poster_path|production_companies|production_countries|        release_date|     revenue|             runtime|    spoken_languages|  status|             tagline|               title|   video|vote_average|vote_count|\n",
            "+-----+---------------------+------+--------------------+--------------------+-----+---------+-----------------+--------------------+--------------------+----------+--------------------+--------------------+--------------------+--------------------+------------+--------------------+--------------------+--------+--------------------+--------------------+--------+------------+----------+\n",
            "|false| {'id': 10194, 'na...| 3.0E7|[{'id': 16, 'name...|http://toystory.d...|  862|tt0114709|               en|           Toy Story|Led by Woody, And...| 21.946943|/rhIRbceoE9lR4veE...|[{'name': 'Pixar ...|[{'iso_3166_1': '...|          1995-10-30|3.73554033E8|                81.0|[{'iso_639_1': 'e...|Released|                NULL|           Toy Story|   False|         7.7|      5415|\n",
            "|false|                 NULL| 6.5E7|[{'id': 12, 'name...|                NULL| 8844|tt0113497|               en|             Jumanji|When siblings Jud...| 17.015539|/vzmL6fP7aPKNKPRT...|[{'name': 'TriSta...|[{'iso_3166_1': '...|          1995-12-15|2.62797249E8|               104.0|[{'iso_639_1': 'e...|Released|Roll the dice and...|             Jumanji|   False|         6.9|      2413|\n",
            "|false| {'id': 119050, 'n...|   0.0|[{'id': 10749, 'n...|                NULL|15602|tt0113228|               en|    Grumpier Old Men|A family wedding ...|   11.7129|/6ksm1sjKMFLbO7UY...|[{'name': 'Warner...|[{'iso_3166_1': '...|          1995-12-22|         0.0|               101.0|[{'iso_639_1': 'e...|Released|Still Yelling. St...|    Grumpier Old Men|   False|         6.5|        92|\n",
            "|false|                 NULL| 1.6E7|[{'id': 35, 'name...|                NULL|31357|tt0114885|               en|   Waiting to Exhale|\"Cheated on, mist...|    Bernie| Glo and Robin ta...| determined to fi...|            3.859495|/16XOMpEaLWkrcPqS...|        NULL|[{'iso_3166_1': '...|          1995-12-22|81452156|               127.0|[{'iso_639_1': 'e...|Released|        NULL|      NULL|\n",
            "|false| {'id': 96871, 'na...|   0.0|[{'id': 35, 'name...|                NULL|11862|tt0113041|               en|Father of the Bri...|Just when George ...|  8.387519|/e64sOI48hQXyru7n...|[{'name': 'Sandol...|[{'iso_3166_1': '...|          1995-02-10| 7.6578911E7|               106.0|[{'iso_639_1': 'e...|Released|Just When His Wor...|Father of the Bri...|   False|         5.7|       173|\n",
            "+-----+---------------------+------+--------------------+--------------------+-----+---------+-----------------+--------------------+--------------------+----------+--------------------+--------------------+--------------------+--------------------+------------+--------------------+--------------------+--------+--------------------+--------------------+--------+------------+----------+\n",
            "only showing top 5 rows\n",
            "\n"
          ]
        }
      ]
    },
    {
      "cell_type": "code",
      "source": [
        "def categorize_budget(budget):\n",
        " if budget < 5000000:\n",
        "  return \"Low\"\n",
        " elif budget < 20000000:\n",
        "  return \"Medium\"\n",
        " else:\n",
        "  return \"High\""
      ],
      "metadata": {
        "id": "cCkLyotfcFTx"
      },
      "execution_count": 67,
      "outputs": []
    },
    {
      "cell_type": "code",
      "source": [
        "from pyspark.sql.functions import udf\n",
        "categorize_udf = udf(categorize_budget, StringType())"
      ],
      "metadata": {
        "id": "TNDNvQ0dcHa3"
      },
      "execution_count": 68,
      "outputs": []
    },
    {
      "cell_type": "code",
      "source": [
        "movies_df = movies_df.withColumn(\"budget_category\", categorize_udf(\"budget\"))"
      ],
      "metadata": {
        "id": "-sXQbbdCcJlr"
      },
      "execution_count": 69,
      "outputs": []
    },
    {
      "cell_type": "code",
      "source": [
        "movies_df.show()"
      ],
      "metadata": {
        "colab": {
          "base_uri": "https://localhost:8080/"
        },
        "id": "d7g9jNOUcPLn",
        "outputId": "ac00618a-4a14-481c-d859-b432512d9d59"
      },
      "execution_count": 70,
      "outputs": [
        {
          "output_type": "stream",
          "name": "stdout",
          "text": [
            "+-----+---------------------+---------+--------------------+--------------------+-----+---------+-----------------+--------------------+--------------------+----------+--------------------+--------------------+--------------------+------------+------------+-------+--------------------+--------+--------------------+--------------------+-----+------------+----------+---------------+\n",
            "|adult|belongs_to_collection|   budget|              genres|            homepage|   id|  imdb_id|original_language|      original_title|            overview|popularity|         poster_path|production_companies|production_countries|release_date|     revenue|runtime|    spoken_languages|  status|             tagline|               title|video|vote_average|vote_count|budget_category|\n",
            "+-----+---------------------+---------+--------------------+--------------------+-----+---------+-----------------+--------------------+--------------------+----------+--------------------+--------------------+--------------------+------------+------------+-------+--------------------+--------+--------------------+--------------------+-----+------------+----------+---------------+\n",
            "|false| {'id': 10194, 'na...|    3.0E7|[{'id': 16, 'name...|http://toystory.d...|  862|tt0114709|               en|           Toy Story|Led by Woody, And...| 21.946943|/rhIRbceoE9lR4veE...|[{'name': 'Pixar ...|[{'iso_3166_1': '...|  1995-10-30|3.73554033E8|   81.0|[{'iso_639_1': 'e...|Released|                NULL|           Toy Story|False|         7.7|      5415|           High|\n",
            "|false|                 NULL|    6.5E7|[{'id': 12, 'name...|                NULL| 8844|tt0113497|               en|             Jumanji|When siblings Jud...| 17.015539|/vzmL6fP7aPKNKPRT...|[{'name': 'TriSta...|[{'iso_3166_1': '...|  1995-12-15|2.62797249E8|  104.0|[{'iso_639_1': 'e...|Released|Roll the dice and...|             Jumanji|False|         6.9|      2413|           High|\n",
            "|false| {'id': 119050, 'n...|      0.0|[{'id': 10749, 'n...|                NULL|15602|tt0113228|               en|    Grumpier Old Men|A family wedding ...|   11.7129|/6ksm1sjKMFLbO7UY...|[{'name': 'Warner...|[{'iso_3166_1': '...|  1995-12-22|         0.0|  101.0|[{'iso_639_1': 'e...|Released|Still Yelling. St...|    Grumpier Old Men|False|         6.5|        92|            Low|\n",
            "|false| {'id': 96871, 'na...|      0.0|[{'id': 35, 'name...|                NULL|11862|tt0113041|               en|Father of the Bri...|Just when George ...|  8.387519|/e64sOI48hQXyru7n...|[{'name': 'Sandol...|[{'iso_3166_1': '...|  1995-02-10| 7.6578911E7|  106.0|[{'iso_639_1': 'e...|Released|Just When His Wor...|Father of the Bri...|False|         5.7|       173|            Low|\n",
            "|false|                 NULL|    6.0E7|[{'id': 28, 'name...|                NULL|  949|tt0113277|               en|                Heat|Obsessive master ...| 17.924927|/zMyfPUelumio3tiD...|[{'name': 'Regenc...|[{'iso_3166_1': '...|  1995-12-15|1.87436818E8|  170.0|[{'iso_639_1': 'e...|Released|A Los Angeles Cri...|                Heat|False|         7.7|      1886|           High|\n",
            "|false|                 NULL|    5.8E7|[{'id': 35, 'name...|                NULL|11860|tt0114319|               en|             Sabrina|An ugly duckling ...|  6.677277|/jQh15y5YB7bWz1Nt...|[{'name': 'Paramo...|[{'iso_3166_1': '...|  1995-12-15|         0.0|  127.0|[{'iso_639_1': 'f...|Released|You are cordially...|             Sabrina|False|         6.2|       141|           High|\n",
            "|false|                 NULL|      0.0|[{'id': 28, 'name...|                NULL|45325|tt0112302|               en|        Tom and Huck|A mischievous you...|  2.561161|/sGO5Qa55p7wTu7FJ...|[{'name': 'Walt D...|[{'iso_3166_1': '...|  1995-12-22|         0.0|   97.0|[{'iso_639_1': 'e...|Released|The Original Bad ...|        Tom and Huck|False|         5.4|        45|            Low|\n",
            "|false|                 NULL|    3.5E7|[{'id': 28, 'name...|                NULL| 9091|tt0114576|               en|        Sudden Death|International act...|   5.23158|/eoWvKD60lT95Ss1M...|[{'name': 'Univer...|[{'iso_3166_1': '...|  1995-12-22| 6.4350171E7|  106.0|[{'iso_639_1': 'e...|Released|Terror goes into ...|        Sudden Death|False|         5.5|       174|           High|\n",
            "|false| {'id': 645, 'name...|    5.8E7|[{'id': 12, 'name...|http://www.mgm.co...|  710|tt0113189|               en|           GoldenEye|James Bond must u...| 14.686036|/5c0ovjT41KnYIHYu...|[{'name': 'United...|[{'iso_3166_1': '...|  1995-11-16|3.52194034E8|  130.0|[{'iso_639_1': 'e...|Released|No limits. No fea...|           GoldenEye|False|         6.6|      1194|           High|\n",
            "|false|                 NULL|    6.2E7|[{'id': 35, 'name...|                NULL| 9087|tt0112346|               en|The American Pres...|Widowed U.S. pres...|  6.318445|/lymPNGLZgPHuqM29...|[{'name': 'Columb...|[{'iso_3166_1': '...|  1995-11-17|1.07879496E8|  106.0|[{'iso_639_1': 'e...|Released|Why can't the mos...|The American Pres...|False|         6.5|       199|           High|\n",
            "|false|                 NULL|      0.0|[{'id': 35, 'name...|                NULL|12110|tt0112896|               en|Dracula: Dead and...|When a lawyer sho...|  5.430331|/xve4cgfYItnOhtzL...|[{'name': 'Columb...|[{'iso_3166_1': '...|  1995-12-22|         0.0|   88.0|[{'iso_639_1': 'e...|Released|                NULL|Dracula: Dead and...|False|         5.7|       210|            Low|\n",
            "|false| {'id': 117693, 'n...|      0.0|[{'id': 10751, 'n...|                NULL|21032|tt0112453|               en|               Balto|An outcast half-w...| 12.140733|/gV5PCAVCPNxlOLFM...|[{'name': 'Univer...|[{'iso_3166_1': '...|  1995-12-22| 1.1348324E7|   78.0|[{'iso_639_1': 'e...|Released|Part Dog. Part Wo...|               Balto|False|         7.1|       423|            Low|\n",
            "|false|                 NULL|    4.4E7|[{'id': 36, 'name...|                NULL|10858|tt0113987|               en|               Nixon|An all-star cast ...|     5.092|/cICkmCEiXRhvZmbu...|[{'name': 'Hollyw...|[{'iso_3166_1': '...|  1995-12-22| 1.3681765E7|  192.0|[{'iso_639_1': 'e...|Released|Triumphant in Vic...|               Nixon|False|         7.1|        72|           High|\n",
            "|false|                 NULL|    9.8E7|[{'id': 28, 'name...|                NULL| 1408|tt0112760|               en|    Cutthroat Island|Morgan Adams and ...|  7.284477|/odM9973kIv9hcjfH...|[{'name': 'Le Stu...|[{'iso_3166_1': '...|  1995-12-22| 1.0017322E7|  119.0|[{'iso_639_1': 'e...|Released|The Course Has Be...|    Cutthroat Island|False|         5.7|       137|           High|\n",
            "|false|                 NULL|    5.2E7|[{'id': 18, 'name...|                NULL|  524|tt0112641|               en|              Casino|The life of the g...| 10.137389|/xo517ibXBDdYQY81...|[{'name': 'Univer...|[{'iso_3166_1': '...|  1995-11-22|1.16112375E8|  178.0|[{'iso_639_1': 'e...|Released|No one stays at t...|              Casino|False|         7.8|      1343|           High|\n",
            "|false|                 NULL|   1.65E7|[{'id': 18, 'name...|                NULL| 4584|tt0114388|               en|Sense and Sensibi...|Rich Mr. Dashwood...| 10.673167|/lA9HTy84Bb6ZwNey...|[{'name': 'Columb...|[{'iso_3166_1': '...|  1995-12-13|      1.35E8|  136.0|[{'iso_639_1': 'e...|Released|Lose your heart a...|Sense and Sensibi...|False|         7.2|       364|         Medium|\n",
            "|false|                 NULL|4000000.0|[{'id': 80, 'name...|                NULL|    5|tt0113101|               en|          Four Rooms|It's Ted the Bell...|  9.026586|/eQs5hh9rxrk1m4xH...|[{'name': 'Mirama...|[{'iso_3166_1': '...|  1995-12-09|   4300000.0|   98.0|[{'iso_639_1': 'e...|Released|Twelve outrageous...|          Four Rooms|False|         6.5|       539|            Low|\n",
            "|false| {'id': 3167, 'nam...|    3.0E7|[{'id': 80, 'name...|                NULL| 9273|tt0112281|               en|Ace Ventura: When...|Summoned from an ...|  8.205448|/wRlGnJhEzcxBjvWt...|[{'name': 'O Ente...|[{'iso_3166_1': '...|  1995-11-10|2.12385533E8|   90.0|[{'iso_639_1': 'e...|Released|New animals. New ...|Ace Ventura: When...|False|         6.1|      1128|           High|\n",
            "|false|                 NULL|    6.0E7|[{'id': 28, 'name...|                NULL|11517|tt0113845|               en|         Money Train|A vengeful New Yo...|  7.337906|/jSozzzVOR2kfXgTU...|[{'name': 'Columb...|[{'iso_3166_1': '...|  1995-11-21| 3.5431113E7|  103.0|[{'iso_639_1': 'e...|Released|Get on, or GET OU...|         Money Train|False|         5.4|       224|           High|\n",
            "|false|                 NULL|      0.0|[{'id': 18, 'name...|                NULL| 1710|tt0112722|               en|             Copycat|An agoraphobic ps...| 10.701801|/80czeJGSoik22fht...|[{'name': 'Regenc...|[{'iso_3166_1': '...|  1995-10-27|         0.0|  124.0|[{'iso_639_1': 'e...|Released|One man is copyin...|             Copycat|False|         6.5|       199|            Low|\n",
            "+-----+---------------------+---------+--------------------+--------------------+-----+---------+-----------------+--------------------+--------------------+----------+--------------------+--------------------+--------------------+------------+------------+-------+--------------------+--------+--------------------+--------------------+-----+------------+----------+---------------+\n",
            "only showing top 20 rows\n",
            "\n"
          ]
        }
      ]
    }
  ]
}