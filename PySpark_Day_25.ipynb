{
  "nbformat": 4,
  "nbformat_minor": 0,
  "metadata": {
    "colab": {
      "provenance": [],
      "authorship_tag": "ABX9TyOvcnOwAcA2ht+BKOI2qOL/"
    },
    "kernelspec": {
      "name": "python3",
      "display_name": "Python 3"
    },
    "language_info": {
      "name": "python"
    }
  },
  "cells": [
    {
      "cell_type": "markdown",
      "source": [],
      "metadata": {
        "id": "-682gcAb5tJ7"
      }
    },
    {
      "cell_type": "code",
      "execution_count": 1,
      "metadata": {
        "colab": {
          "base_uri": "https://localhost:8080/"
        },
        "id": "FXSqKcWnmx3M",
        "outputId": "e56a2fb8-6ba8-4f4c-d770-745fffc76f7a"
      },
      "outputs": [
        {
          "output_type": "stream",
          "name": "stdout",
          "text": [
            "Collecting pyspark==3.5.0\n",
            "  Downloading pyspark-3.5.0.tar.gz (316.9 MB)\n",
            "\u001b[2K     \u001b[90m━━━━━━━━━━━━━━━━━━━━━━━━━━━━━━━━━━━━━━━━\u001b[0m \u001b[32m316.9/316.9 MB\u001b[0m \u001b[31m2.2 MB/s\u001b[0m eta \u001b[36m0:00:00\u001b[0m\n",
            "\u001b[?25h  Preparing metadata (setup.py) ... \u001b[?25l\u001b[?25hdone\n",
            "Collecting findspark\n",
            "  Downloading findspark-2.0.1-py2.py3-none-any.whl (4.4 kB)\n",
            "Requirement already satisfied: py4j==0.10.9.7 in /usr/local/lib/python3.10/dist-packages (from pyspark==3.5.0) (0.10.9.7)\n",
            "Building wheels for collected packages: pyspark\n",
            "  Building wheel for pyspark (setup.py) ... \u001b[?25l\u001b[?25hdone\n",
            "  Created wheel for pyspark: filename=pyspark-3.5.0-py2.py3-none-any.whl size=317425344 sha256=6c1192afc627daa1f53241bcfa063fe8581868519eb8a0e02b2307363e43ff5d\n",
            "  Stored in directory: /root/.cache/pip/wheels/41/4e/10/c2cf2467f71c678cfc8a6b9ac9241e5e44a01940da8fbb17fc\n",
            "Successfully built pyspark\n",
            "Installing collected packages: findspark, pyspark\n",
            "Successfully installed findspark-2.0.1 pyspark-3.5.0\n"
          ]
        }
      ],
      "source": [
        "!pip install pyspark==3.5.0 findspark"
      ]
    },
    {
      "cell_type": "code",
      "source": [
        "import findspark\n",
        "findspark.init()"
      ],
      "metadata": {
        "id": "QDReOgODnRws"
      },
      "execution_count": 2,
      "outputs": []
    },
    {
      "cell_type": "code",
      "source": [
        "from pyspark.sql.types import *\n",
        "schema = StructType([\n",
        "StructField(\"person_id\",IntegerType(),True),\n",
        "StructField(\"name\",StringType(),True), StructField(\"first\",StringType(),True),\n",
        "StructField(\"last\", StringType(), True),\n",
        "StructField(\"middle\", StringType(), True),\n",
        "StructField(\"email\", StringType(), True),\n",
        "StructField(\"phone\", StringType(), True),\n",
        "StructField(\"fax\", StringType(), True),\n",
        "StructField(\"title\", StringType(), True)])"
      ],
      "metadata": {
        "id": "2lVp2XBwRKiE"
      },
      "execution_count": 48,
      "outputs": []
    },
    {
      "cell_type": "code",
      "source": [],
      "metadata": {
        "id": "VKBuGKeURZ2e"
      },
      "execution_count": null,
      "outputs": []
    },
    {
      "cell_type": "code",
      "source": [
        "from pyspark.sql import SparkSession, Row\n",
        "from pyspark.sql.types import *\n",
        "\n",
        "spark = SparkSession.builder.appName(\"MovieLens\").getOrCreate()\n",
        "\n",
        "# Movies Schema\n",
        "schema_movies = StructType([\n",
        "    StructField(\"movieId\", IntegerType(), True),\n",
        "    StructField(\"title\", StringType(), True),\n",
        "    StructField(\"genres\", StringType(), True)\n",
        "])\n",
        "\n",
        "# Create DataFrames\n",
        "movies_df = spark.read.csv(\"sample_data/movies_metadata.csv\", header = True, inferSchema = True)\n",
        "\n"
      ],
      "metadata": {
        "id": "p0pZc5lJKwRo"
      },
      "execution_count": 4,
      "outputs": []
    },
    {
      "cell_type": "code",
      "source": [
        "ratings_data = [\n",
        "    (101, 1, 5.0, 1475442332),  # User 101 loved 'The Shawshank Redemption'\n",
        "    (22, 2, 3.0, 1662234457),   # User 22 wasn't a fan of 'The Godfather'\n",
        "    (101, 3, 4.5, 1305696483),  # User 101 also enjoyed 'The Dark Knight'\n",
        "    (47, 6, 4.0, 1440115102),   # User 47 found 'Schindler's List' impactful\n",
        "    (158, 5, 2.5, 1525717880),  # User 158 disliked 'Pulp Fiction'\n",
        "    (22, 10, 4.0, 1661022219),  # User 22 enjoyed the documentary\n",
        "    (85, 3, 4.5, 1403772446),   # Another high rating for 'The Dark Knight'\n",
        "    (10, 7, 3.0, 1602650521),   # User 10 found 'Inception' just okay\n",
        "    (10, 1, 3.5, 1475442891),  # User 10 had mixed feelings about 'Shawshank...'\n",
        "    (192, 8, 5.0, 1292342928)   # User 192 was captivated by 'Spirited Away'\n",
        " ]"
      ],
      "metadata": {
        "id": "WFhbDmJcf0iF"
      },
      "execution_count": 6,
      "outputs": []
    },
    {
      "cell_type": "code",
      "source": [
        "ratings_data = [\n",
        "    {\"userId\":45,\"movieId\":357,\"rating\":3,\"timestamp\":1650854610},\n",
        "    {\"userId\":48,\"movieId\":339,\"rating\":3,\"timestamp\":1622791892},\n",
        "    {\"userId\":65,\"movieId\":88,\"rating\":5,\"timestamp\":1602521223},\n",
        "    {\"userId\":68,\"movieId\":406,\"rating\":4,\"timestamp\":1628007720},\n",
        "    {\"userId\":68,\"movieId\":3,\"rating\":5,\"timestamp\":1631478584},\n",
        "    {\"userId\":10,\"movieId\":265,\"rating\":4,\"timestamp\":1606001493},\n",
        "    {\"userId\":84,\"movieId\":267,\"rating\":1,\"timestamp\":1627585061},\n",
        "    {\"userId\":22,\"movieId\":262,\"rating\":1,\"timestamp\":1648940974},\n",
        "    {\"userId\":37,\"movieId\":295,\"rating\":4,\"timestamp\":1638438611},\n",
        "    {\"userId\":88,\"movieId\":423,\"rating\":2,\"timestamp\":1625286839},\n",
        "    {\"userId\":71,\"movieId\":101,\"rating\":3,\"timestamp\":1656442758},\n",
        "    {\"userId\":89,\"movieId\":450,\"rating\":3,\"timestamp\":1625292800},\n",
        "    {\"userId\":89,\"movieId\":118,\"rating\":1,\"timestamp\":1649608584},\n",
        "    {\"userId\":13,\"movieId\":60,\"rating\":1,\"timestamp\":1612111356},\n",
        "    {\"userId\":59,\"movieId\":165,\"rating\":4,\"timestamp\":1622088917},\n",
        "    {\"userId\":66,\"movieId\":390,\"rating\":4,\"timestamp\":1610547067},\n",
        "    {\"userId\":40,\"movieId\":262,\"rating\":3,\"timestamp\":1640534767},\n",
        "    {\"userId\":88,\"movieId\":39,\"rating\":2,\"timestamp\":1654523045},\n",
        "    {\"userId\":47,\"movieId\":164,\"rating\":3,\"timestamp\":1625494979},\n",
        "    {\"userId\":89,\"movieId\":89,\"rating\":2,\"timestamp\":1629865134},\n",
        "    {\"userId\":82,\"movieId\":434,\"rating\":3,\"timestamp\":1630176488},\n",
        "    {\"userId\":38,\"movieId\":208,\"rating\":4,\"timestamp\":1598063529},\n",
        "    {\"userId\":26,\"movieId\":341,\"rating\":4,\"timestamp\":1605633372},\n",
        "    {\"userId\":78,\"movieId\":371,\"rating\":5,\"timestamp\":1615875647},\n",
        "    {\"userId\":73,\"movieId\":266,\"rating\":3,\"timestamp\":1644701175},\n",
        "    {\"userId\":10,\"movieId\":133,\"rating\":3,\"timestamp\":1632788580},\n",
        "    {\"userId\":21,\"movieId\":434,\"rating\":4,\"timestamp\":1621416999},\n",
        "    {\"userId\":81,\"movieId\":25,\"rating\":4,\"timestamp\":1644226483},\n",
        "    {\"userId\":70,\"movieId\":95,\"rating\":2,\"timestamp\":1615594685},\n",
        "    {\"userId\":80,\"movieId\":387,\"rating\":4,\"timestamp\":1610756973},\n",
        "    {\"userId\":48,\"movieId\":340,\"rating\":5,\"timestamp\":1620416709},\n",
        "    {\"userId\":65,\"movieId\":388,\"rating\":4,\"timestamp\":1597990330},\n",
        "    {\"userId\":83,\"movieId\":78,\"rating\":4,\"timestamp\":1606795611},\n",
        "    {\"userId\":100,\"movieId\":268,\"rating\":4,\"timestamp\":1609032543},\n",
        "    {\"userId\":89,\"movieId\":398,\"rating\":2,\"timestamp\":1643709864},\n",
        "    {\"userId\":50,\"movieId\":485,\"rating\":4,\"timestamp\":1616198217},\n",
        "    {\"userId\":30,\"movieId\":82,\"rating\":4,\"timestamp\":1649380533},\n",
        "    {\"userId\":20,\"movieId\":155,\"rating\":3,\"timestamp\":1633042808},\n",
        "    {\"userId\":20,\"movieId\":455,\"rating\":3,\"timestamp\":1609878535},\n",
        "    {\"userId\":15,\"movieId\":176,\"rating\":3,\"timestamp\":1631347555},\n",
        "    {\"userId\":40,\"movieId\":99,\"rating\":4,\"timestamp\":1655385519},\n",
        "    {\"userId\":33,\"movieId\":22,\"rating\":1,\"timestamp\":1619436741},\n",
        "    {\"userId\":66,\"movieId\":405,\"rating\":3,\"timestamp\":1608787113},\n",
        "    {\"userId\":10,\"movieId\":171,\"rating\":3,\"timestamp\":1606771996},\n",
        "    {\"userId\":58,\"movieId\":379,\"rating\":3,\"timestamp\":1617665782}]"
      ],
      "metadata": {
        "id": "nZsQFzXTikef"
      },
      "execution_count": 21,
      "outputs": []
    },
    {
      "cell_type": "code",
      "source": [
        "ratings_df = spark.createDataFrame(ratings_data, [\"userId\", \"movieId\", \"rating\", \"timestamp\"])"
      ],
      "metadata": {
        "id": "gFR0U4Qlf-L_"
      },
      "execution_count": 22,
      "outputs": []
    },
    {
      "cell_type": "code",
      "source": [
        "test_data = [\n",
        "    (1, 1, 5.0, 1681110400),     # User 1 gives \"Toy Story\" 5 stars on June 10, 2023\n",
        "    (1, 2, 3.5, 1681283200),     # User 1 gives \"Jumanji\" 3.5 stars on June 12, 2023\n",
        "    (2, 1, 4.5, 1681369600),     # User 2 gives \"Toy Story\" 4.5 stars on June 13, 2023\n",
        "    (2, 3, 3.0, 1681542400),     # User 2 gives \"Grumpier Old Men\" 3 stars on June 15, 2023\n",
        "    (3, 4, 5.0, 1681715200),     # User 3 gives \"Heat\" 5 stars on June 17, 2023\n",
        "    (3, 5, 4.0, 1681888000),     # User 3 gives \"Casino\" 4 stars on June 19, 2023\n",
        "    (4, 6, 3.5, 1682060800),     # User 4 gives \"Sense and Sensibility\" 3.5 stars on June 21, 2023\n",
        "    (4, 7, 4.5, 1682233600),     # User 4 gives \"Seven (Se7en)\" 4.5 stars on June 23, 2023\n",
        "    (5, 8, 5.0, 1682320000),     # User 5 gives \"The Usual Suspects\" 5 stars on June 24, 2023\n",
        "    (5, 9, 4.0, 1682579200)      # User 5 gives \"Apollo 13\" 4 stars on June 27, 2023\n",
        "]\n"
      ],
      "metadata": {
        "id": "xfmRt-Tmg1CD"
      },
      "execution_count": 13,
      "outputs": []
    },
    {
      "cell_type": "code",
      "source": [
        "test_data_df = spark.createDataFrame(test_data, [\"userId\", \"movieId\", \"rating\", \"timestamp\"])"
      ],
      "metadata": {
        "id": "e_EdViO3g42Y"
      },
      "execution_count": 14,
      "outputs": []
    },
    {
      "cell_type": "code",
      "source": [
        "from pyspark.ml.recommendation import ALS\n",
        "\n",
        "# ... (Load and prepare your MovieLens data)\n",
        "\n",
        "# Build the model\n",
        "als = ALS(userCol=\"userId\", itemCol=\"movieId\", ratingCol=\"rating\",\n",
        " coldStartStrategy=\"drop\", nonnegative=True)\n",
        "model = als.fit(ratings_df)\n",
        "\n",
        "# Generate predictions\n",
        "predictions = model.transform(test_data_df)"
      ],
      "metadata": {
        "id": "9XBkVxNtPXOo"
      },
      "execution_count": 23,
      "outputs": []
    },
    {
      "cell_type": "code",
      "source": [
        "predictions.show()"
      ],
      "metadata": {
        "colab": {
          "base_uri": "https://localhost:8080/"
        },
        "id": "e4kQFJNChK5r",
        "outputId": "77adb56b-b00a-4686-9c97-fad760a20e0d"
      },
      "execution_count": 24,
      "outputs": [
        {
          "output_type": "stream",
          "name": "stdout",
          "text": [
            "+------+-------+------+----------+----------+\n",
            "|userId|movieId|rating| timestamp|prediction|\n",
            "+------+-------+------+----------+----------+\n",
            "|     3|      4|   5.0|1681715200|       0.0|\n",
            "|     3|      5|   4.0|1681888000|       0.0|\n",
            "+------+-------+------+----------+----------+\n",
            "\n"
          ]
        }
      ]
    }
  ]
}